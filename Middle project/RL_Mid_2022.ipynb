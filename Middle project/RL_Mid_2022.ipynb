{
  "cells": [
    {
      "cell_type": "markdown",
      "source": [
        "# Mid-semester assignment - reinforcements learning \n",
        "Hello dear students,<br> this is the template notebook. Please click on the \"File\" tab and then on \"Save a copy into drive\".\n",
        "\n",
        "---\n",
        "<br>\n",
        "\n",
        "### Name and ID:\n",
        "Student 1: Nadav Shaked 312494925\n",
        "<br>\n",
        "Student 2: Michael Glustein 203929500"
      ],
      "metadata": {
        "id": "XXqIDAd1SeMX"
      }
    },
    {
      "cell_type": "markdown",
      "source": [
        "# Goodluck!"
      ],
      "metadata": {
        "id": "QBKobbdiT6F0"
      }
    },
    {
      "cell_type": "markdown",
      "source": [
        "## Installs"
      ],
      "metadata": {
        "id": "VH9ZX_RT8eFo"
      }
    },
    {
      "cell_type": "code",
      "source": [
        "!pip install gym\n",
        "!pip install pygame\n",
        "!apt-get install python-opengl -y\n",
        "!apt install xvfb -y\n",
        "!pip install pyvirtualdisplay\n",
        "!pip install piglet"
      ],
      "metadata": {
        "colab": {
          "base_uri": "https://localhost:8080/"
        },
        "id": "xuJdLI_YPAvD",
        "outputId": "dc0fca74-ff10-4a43-bfd1-ea22dcba7e71"
      },
      "execution_count": 1,
      "outputs": [
        {
          "output_type": "stream",
          "name": "stdout",
          "text": [
            "Requirement already satisfied: gym in /usr/local/lib/python3.7/dist-packages (0.17.3)\n",
            "Requirement already satisfied: scipy in /usr/local/lib/python3.7/dist-packages (from gym) (1.4.1)\n",
            "Requirement already satisfied: pyglet<=1.5.0,>=1.4.0 in /usr/local/lib/python3.7/dist-packages (from gym) (1.5.0)\n",
            "Requirement already satisfied: cloudpickle<1.7.0,>=1.2.0 in /usr/local/lib/python3.7/dist-packages (from gym) (1.3.0)\n",
            "Requirement already satisfied: numpy>=1.10.4 in /usr/local/lib/python3.7/dist-packages (from gym) (1.21.6)\n",
            "Requirement already satisfied: future in /usr/local/lib/python3.7/dist-packages (from pyglet<=1.5.0,>=1.4.0->gym) (0.16.0)\n",
            "Collecting pygame\n",
            "  Downloading pygame-2.1.2-cp37-cp37m-manylinux_2_17_x86_64.manylinux2014_x86_64.whl (21.8 MB)\n",
            "\u001b[K     |████████████████████████████████| 21.8 MB 4.8 MB/s \n",
            "\u001b[?25hInstalling collected packages: pygame\n",
            "Successfully installed pygame-2.1.2\n",
            "Reading package lists... Done\n",
            "Building dependency tree       \n",
            "Reading state information... Done\n",
            "The following packages were automatically installed and are no longer required:\n",
            "  libnvidia-common-460 nsight-compute-2020.2.0\n",
            "Use 'apt autoremove' to remove them.\n",
            "Suggested packages:\n",
            "  libgle3\n",
            "The following NEW packages will be installed:\n",
            "  python-opengl\n",
            "0 upgraded, 1 newly installed, 0 to remove and 42 not upgraded.\n",
            "Need to get 496 kB of archives.\n",
            "After this operation, 5,416 kB of additional disk space will be used.\n",
            "Get:1 http://archive.ubuntu.com/ubuntu bionic/universe amd64 python-opengl all 3.1.0+dfsg-1 [496 kB]\n",
            "Fetched 496 kB in 1s (487 kB/s)\n",
            "Selecting previously unselected package python-opengl.\n",
            "(Reading database ... 155203 files and directories currently installed.)\n",
            "Preparing to unpack .../python-opengl_3.1.0+dfsg-1_all.deb ...\n",
            "Unpacking python-opengl (3.1.0+dfsg-1) ...\n",
            "Setting up python-opengl (3.1.0+dfsg-1) ...\n",
            "Reading package lists... Done\n",
            "Building dependency tree       \n",
            "Reading state information... Done\n",
            "The following packages were automatically installed and are no longer required:\n",
            "  libnvidia-common-460 nsight-compute-2020.2.0\n",
            "Use 'apt autoremove' to remove them.\n",
            "The following NEW packages will be installed:\n",
            "  xvfb\n",
            "0 upgraded, 1 newly installed, 0 to remove and 42 not upgraded.\n",
            "Need to get 784 kB of archives.\n",
            "After this operation, 2,271 kB of additional disk space will be used.\n",
            "Get:1 http://archive.ubuntu.com/ubuntu bionic-updates/universe amd64 xvfb amd64 2:1.19.6-1ubuntu4.10 [784 kB]\n",
            "Fetched 784 kB in 1s (656 kB/s)\n",
            "Selecting previously unselected package xvfb.\n",
            "(Reading database ... 157558 files and directories currently installed.)\n",
            "Preparing to unpack .../xvfb_2%3a1.19.6-1ubuntu4.10_amd64.deb ...\n",
            "Unpacking xvfb (2:1.19.6-1ubuntu4.10) ...\n",
            "Setting up xvfb (2:1.19.6-1ubuntu4.10) ...\n",
            "Processing triggers for man-db (2.8.3-2ubuntu0.1) ...\n",
            "Collecting pyvirtualdisplay\n",
            "  Downloading PyVirtualDisplay-3.0-py3-none-any.whl (15 kB)\n",
            "Installing collected packages: pyvirtualdisplay\n",
            "Successfully installed pyvirtualdisplay-3.0\n",
            "Collecting piglet\n",
            "  Downloading piglet-1.0.0-py2.py3-none-any.whl (2.2 kB)\n",
            "Collecting piglet-templates\n",
            "  Downloading piglet_templates-1.2.0-py3-none-any.whl (67 kB)\n",
            "\u001b[K     |████████████████████████████████| 67 kB 3.7 MB/s \n",
            "\u001b[?25hRequirement already satisfied: attrs in /usr/local/lib/python3.7/dist-packages (from piglet-templates->piglet) (21.4.0)\n",
            "Requirement already satisfied: pyparsing in /usr/local/lib/python3.7/dist-packages (from piglet-templates->piglet) (3.0.8)\n",
            "Requirement already satisfied: astunparse in /usr/local/lib/python3.7/dist-packages (from piglet-templates->piglet) (1.6.3)\n",
            "Requirement already satisfied: markupsafe in /usr/local/lib/python3.7/dist-packages (from piglet-templates->piglet) (2.0.1)\n",
            "Requirement already satisfied: wheel<1.0,>=0.23.0 in /usr/local/lib/python3.7/dist-packages (from astunparse->piglet-templates->piglet) (0.37.1)\n",
            "Requirement already satisfied: six<2.0,>=1.6.1 in /usr/local/lib/python3.7/dist-packages (from astunparse->piglet-templates->piglet) (1.15.0)\n",
            "Installing collected packages: piglet-templates, piglet\n",
            "Successfully installed piglet-1.0.0 piglet-templates-1.2.0\n"
          ]
        }
      ]
    },
    {
      "cell_type": "markdown",
      "source": [
        "## Imports"
      ],
      "metadata": {
        "id": "18TKb2kW6MKc"
      }
    },
    {
      "cell_type": "code",
      "execution_count": 2,
      "metadata": {
        "id": "NbxNfCQq2-8H",
        "colab": {
          "base_uri": "https://localhost:8080/"
        },
        "outputId": "9a6f97b2-a20e-4669-89f6-7dfa382215e2"
      },
      "outputs": [
        {
          "output_type": "stream",
          "name": "stdout",
          "text": [
            "pygame 2.1.2 (SDL 2.0.16, Python 3.7.13)\n",
            "Hello from the pygame community. https://www.pygame.org/contribute.html\n"
          ]
        }
      ],
      "source": [
        "import numpy as np\n",
        "import gym\n",
        "from gym import logger as gymlogger\n",
        "from gym.wrappers import Monitor\n",
        "from gym.utils import seeding\n",
        "from gym import error, spaces, utils\n",
        "gymlogger.set_level(40) # error only\n",
        "import glob\n",
        "import io\n",
        "import base64\n",
        "import os\n",
        "import random\n",
        "import matplotlib.pyplot as plt\n",
        "%matplotlib inline\n",
        "import math\n",
        "import glob\n",
        "from pyvirtualdisplay import Display\n",
        "from IPython.display import HTML\n",
        "from IPython import display as ipythondisplay\n",
        "import pygame"
      ]
    },
    {
      "cell_type": "markdown",
      "source": [
        "## Display utils\n",
        "The cell below contains the video display configuration. No need to make changes here."
      ],
      "metadata": {
        "id": "I_CiTInf6Vrq"
      }
    },
    {
      "cell_type": "code",
      "execution_count": 23,
      "metadata": {
        "id": "IBL7zGQU3Y6t"
      },
      "outputs": [],
      "source": [
        "display = Display(visible=0, size=(1400, 900))\n",
        "display.start()\n",
        "\n",
        "\n",
        "if type(os.environ.get(\"DISPLAY\")) is not str or len(os.environ.get(\"DISPLAY\"))==0:\n",
        "    !bash ../xvfb start\n",
        "    %env DISPLAY=:1\n",
        "\n",
        "\n",
        "\"\"\"\n",
        "Utility functions to enable video recording of gym environment \n",
        "and displaying it.\n",
        "To enable video, just do \"env = wrap_env(env)\"\"\n",
        "\"\"\"\n",
        "\n",
        "def show_video():\n",
        "  mp4list = glob.glob('video/*.mp4')\n",
        "  if len(mp4list) > 0:\n",
        "    mp4 = mp4list[0]\n",
        "    video = io.open(mp4, 'r+b').read()\n",
        "    encoded = base64.b64encode(video)\n",
        "    ipythondisplay.display(HTML(data='''<video alt=\"test\" autoplay \n",
        "                loop controls style=\"height: 400px;\">\n",
        "                <source src=\"data:video/mp4;base64,{0}\" type=\"video/mp4\" />\n",
        "             </video>'''.format(encoded.decode('ascii'))))\n",
        "  else: \n",
        "    print(\"Could not find video\")\n",
        "    \n",
        "\n",
        "def wrap_env(env):\n",
        "  env = Monitor(env, './video', force=True)\n",
        "  return env"
      ]
    },
    {
      "cell_type": "markdown",
      "source": [
        "## MazeEnv\n",
        "The cell below contains the configuration of the maze environment. No need to make changes here."
      ],
      "metadata": {
        "id": "k0AgORUSyBeT"
      }
    },
    {
      "cell_type": "code",
      "source": [
        "class MazeEnv(gym.Env):\n",
        "    metadata = {\n",
        "        \"render.modes\": [\"human\", \"rgb_array\"],\n",
        "    }\n",
        "\n",
        "    ACTION = [\"N\", \"S\", \"E\", \"W\"]\n",
        "\n",
        "    def __init__(self, maze_file=None, maze_size=None, mode=None, enable_render=True):\n",
        "\n",
        "        self.viewer = None\n",
        "        self.enable_render = enable_render\n",
        "\n",
        "        if maze_file:\n",
        "            self.maze_view = MazeView2D(maze_name=\"OpenAI Gym - Maze (%s)\" % maze_file,\n",
        "                                        maze_file_path=maze_file,\n",
        "                                        screen_size=(640, 640), \n",
        "                                        enable_render=enable_render)\n",
        "        elif maze_size:\n",
        "            if mode == \"plus\":\n",
        "                has_loops = True\n",
        "                num_portals = int(round(min(maze_size)/3))\n",
        "            else:\n",
        "                has_loops = False\n",
        "                num_portals = 0\n",
        "\n",
        "            self.maze_view = MazeView2D(maze_name=\"OpenAI Gym - Maze (%d x %d)\" % maze_size,\n",
        "                                        maze_size=maze_size, screen_size=(640, 640),\n",
        "                                        has_loops=has_loops, num_portals=num_portals,\n",
        "                                        enable_render=enable_render)\n",
        "        else:\n",
        "            raise AttributeError(\"One must supply either a maze_file path (str) or the maze_size (tuple of length 2)\")\n",
        "\n",
        "        self.maze_size = self.maze_view.maze_size\n",
        "\n",
        "        # forward or backward in each dimension\n",
        "        self.action_space = spaces.Discrete(2*len(self.maze_size))\n",
        "\n",
        "        # observation is the x, y coordinate of the grid\n",
        "        low = np.zeros(len(self.maze_size), dtype=int)\n",
        "        high = np.array(self.maze_size, dtype=int) - np.ones(len(self.maze_size), dtype=int)\n",
        "        self.observation_space = spaces.Box(low, high, dtype=np.int64)\n",
        "\n",
        "        # initial condition\n",
        "        self.state = None\n",
        "        self.steps_beyond_done = None\n",
        "\n",
        "        # Simulation related variables.\n",
        "        self.seed()\n",
        "        self.reset()\n",
        "\n",
        "        # Just need to initialize the relevant attributes\n",
        "        self.configure()\n",
        "\n",
        "    def __del__(self):\n",
        "        if self.enable_render is True:\n",
        "            self.maze_view.quit_game()\n",
        "\n",
        "    def configure(self, display=None):\n",
        "        self.display = display\n",
        "\n",
        "    def seed(self, seed=None):\n",
        "        self.np_random, seed = seeding.np_random(seed)\n",
        "        return [seed]\n",
        "\n",
        "    def step(self, action):\n",
        "        if isinstance(action, int):\n",
        "\n",
        "            self.maze_view.move_robot(self.ACTION[action])\n",
        "        else:\n",
        "            self.maze_view.move_robot(action)\n",
        "\n",
        "        if np.array_equal(self.maze_view.robot, self.maze_view.goal):\n",
        "            reward = 1\n",
        "            done = True\n",
        "        else:\n",
        "            reward = -0.1/(self.maze_size[0]*self.maze_size[1])\n",
        "            done = False\n",
        "\n",
        "        self.state = self.maze_view.robot\n",
        "\n",
        "        info = {}\n",
        "\n",
        "        return self.state, reward, done, info\n",
        "\n",
        "    def reset(self):\n",
        "        self.maze_view.reset_robot()\n",
        "        self.state = np.zeros(2)\n",
        "        self.steps_beyond_done = None\n",
        "        self.done = False\n",
        "        return self.state\n",
        "\n",
        "    def is_game_over(self):\n",
        "        return self.maze_view.game_over\n",
        "\n",
        "    def render(self, mode=\"human\", close=False):\n",
        "        if close:\n",
        "            self.maze_view.quit_game()\n",
        "\n",
        "        return self.maze_view.update(mode)\n",
        "\n",
        "\n",
        "\n",
        "class MazeView2D:\n",
        "\n",
        "    def __init__(self, maze_name=\"Maze2D\", maze_file_path=None,\n",
        "                 maze_size=(30, 30), screen_size=(600, 600),\n",
        "                 has_loops=False, num_portals=0, enable_render=True):\n",
        "\n",
        "        # PyGame configurations\n",
        "        pygame.init()\n",
        "        pygame.display.set_caption(maze_name)\n",
        "        self.clock = pygame.time.Clock()\n",
        "        self.__game_over = False\n",
        "        self.__enable_render = enable_render\n",
        "\n",
        "        # Load a maze\n",
        "        if maze_file_path is None:\n",
        "            self.__maze = Maze(maze_size=maze_size, has_loops=has_loops, num_portals=num_portals)\n",
        "        else:\n",
        "            if not os.path.exists(maze_file_path):\n",
        "                dir_path = os.path.dirname(os.path.abspath(__file__))\n",
        "                rel_path = os.path.join(dir_path, \"maze_samples\", maze_file_path)\n",
        "                if os.path.exists(rel_path):\n",
        "                    maze_file_path = rel_path\n",
        "                else:\n",
        "                    raise FileExistsError(\"Cannot find %s.\" % maze_file_path)\n",
        "            self.__maze = Maze(maze_cells=Maze.load_maze(maze_file_path))\n",
        "\n",
        "        self.maze_size = self.__maze.maze_size\n",
        "        if self.__enable_render is True:\n",
        "            # to show the right and bottom border\n",
        "            self.screen = pygame.display.set_mode(screen_size)\n",
        "            self.__screen_size = tuple(map(sum, zip(screen_size, (-1, -1))))\n",
        "\n",
        "        # Set the starting point\n",
        "        self.__entrance = np.zeros(2, dtype=int)\n",
        "\n",
        "        # Set the Goal\n",
        "        self.__goal = np.array(self.maze_size) - np.array((1, 1))\n",
        "\n",
        "        # Create the Robot\n",
        "        self.__robot = self.entrance\n",
        "\n",
        "        if self.__enable_render is True:\n",
        "            # Create a background\n",
        "            self.background = pygame.Surface(self.screen.get_size()).convert()\n",
        "            self.background.fill((255, 255, 255))\n",
        "\n",
        "            # Create a layer for the maze\n",
        "            self.maze_layer = pygame.Surface(self.screen.get_size()).convert_alpha()\n",
        "            self.maze_layer.fill((0, 0, 0, 0,))\n",
        "\n",
        "            # show the maze\n",
        "            self.__draw_maze()\n",
        "\n",
        "            # show the portals\n",
        "            self.__draw_portals()\n",
        "\n",
        "            # show the robot\n",
        "            self.__draw_robot()\n",
        "\n",
        "            # show the entrance\n",
        "            self.__draw_entrance()\n",
        "\n",
        "            # show the goal\n",
        "            self.__draw_goal()\n",
        "\n",
        "    def update(self, mode=\"human\"):\n",
        "        try:\n",
        "            img_output = self.__view_update(mode)\n",
        "            self.__controller_update()\n",
        "        except Exception as e:\n",
        "            self.__game_over = True\n",
        "            self.quit_game()\n",
        "            raise e\n",
        "        else:\n",
        "            return img_output\n",
        "\n",
        "    def quit_game(self):\n",
        "        try:\n",
        "            self.__game_over = True\n",
        "            if self.__enable_render is True:\n",
        "                pygame.display.quit()\n",
        "            pygame.quit()\n",
        "        except Exception:\n",
        "            pass\n",
        "\n",
        "    def move_robot(self, dir):\n",
        "        if dir not in self.__maze.COMPASS.keys():\n",
        "            raise ValueError(\"dir cannot be %s. The only valid dirs are %s.\"\n",
        "                             % (str(dir), str(self.__maze.COMPASS.keys())))\n",
        "\n",
        "        if self.__maze.is_open(self.__robot, dir):\n",
        "\n",
        "            # update the drawing\n",
        "            self.__draw_robot(transparency=0)\n",
        "\n",
        "            # move the robot\n",
        "            self.__robot += np.array(self.__maze.COMPASS[dir])\n",
        "            # if it's in a portal afterward\n",
        "            if self.maze.is_portal(self.robot):\n",
        "                self.__robot = np.array(self.maze.get_portal(tuple(self.robot)).teleport(tuple(self.robot)))\n",
        "            self.__draw_robot(transparency=255)\n",
        "\n",
        "    def reset_robot(self):\n",
        "\n",
        "        self.__draw_robot(transparency=0)\n",
        "        self.__robot = np.zeros(2, dtype=int)\n",
        "        self.__draw_robot(transparency=255)\n",
        "\n",
        "    def __controller_update(self):\n",
        "        if not self.__game_over:\n",
        "            for event in pygame.event.get():\n",
        "                if event.type == pygame.QUIT:\n",
        "                    self.__game_over = True\n",
        "                    self.quit_game()\n",
        "\n",
        "    def __view_update(self, mode=\"human\"):\n",
        "        if not self.__game_over:\n",
        "            # update the robot's position\n",
        "            self.__draw_entrance()\n",
        "            self.__draw_goal()\n",
        "            self.__draw_portals()\n",
        "            self.__draw_robot()\n",
        "\n",
        "\n",
        "            # update the screen\n",
        "            self.screen.blit(self.background, (0, 0))\n",
        "            self.screen.blit(self.maze_layer,(0, 0))\n",
        "\n",
        "            if mode == \"human\":\n",
        "                pygame.display.flip()\n",
        "\n",
        "            return np.flipud(np.rot90(pygame.surfarray.array3d(pygame.display.get_surface())))\n",
        "\n",
        "    def __draw_maze(self):\n",
        "        \n",
        "        if self.__enable_render is False:\n",
        "            return\n",
        "        \n",
        "        line_colour = (0, 0, 0, 255)\n",
        "\n",
        "        # drawing the horizontal lines\n",
        "        for y in range(self.maze.MAZE_H + 1):\n",
        "            pygame.draw.line(self.maze_layer, line_colour, (0, y * self.CELL_H),\n",
        "                             (self.SCREEN_W, y * self.CELL_H))\n",
        "\n",
        "        # drawing the vertical lines\n",
        "        for x in range(self.maze.MAZE_W + 1):\n",
        "            pygame.draw.line(self.maze_layer, line_colour, (x * self.CELL_W, 0),\n",
        "                             (x * self.CELL_W, self.SCREEN_H))\n",
        "\n",
        "        # breaking the walls\n",
        "        for x in range(len(self.maze.maze_cells)):\n",
        "            for y in range (len(self.maze.maze_cells[x])):\n",
        "                # check the which walls are open in each cell\n",
        "                walls_status = self.maze.get_walls_status(self.maze.maze_cells[x, y])\n",
        "                dirs = \"\"\n",
        "                for dir, open in walls_status.items():\n",
        "                    if open:\n",
        "                        dirs += dir\n",
        "                self.__cover_walls(x, y, dirs)\n",
        "\n",
        "    def __cover_walls(self, x, y, dirs, colour=(0, 0, 255, 15)):\n",
        "\n",
        "        if self.__enable_render is False:\n",
        "            return\n",
        "        \n",
        "        dx = x * self.CELL_W\n",
        "        dy = y * self.CELL_H\n",
        "\n",
        "        if not isinstance(dirs, str):\n",
        "            raise TypeError(\"dirs must be a str.\")\n",
        "\n",
        "        for dir in dirs:\n",
        "            if dir == \"S\":\n",
        "                line_head = (dx + 1, dy + self.CELL_H)\n",
        "                line_tail = (dx + self.CELL_W - 1, dy + self.CELL_H)\n",
        "            elif dir == \"N\":\n",
        "                line_head = (dx + 1, dy)\n",
        "                line_tail = (dx + self.CELL_W - 1, dy)\n",
        "            elif dir == \"W\":\n",
        "                line_head = (dx, dy + 1)\n",
        "                line_tail = (dx, dy + self.CELL_H - 1)\n",
        "            elif dir == \"E\":\n",
        "                line_head = (dx + self.CELL_W, dy + 1)\n",
        "                line_tail = (dx + self.CELL_W, dy + self.CELL_H - 1)\n",
        "            else:\n",
        "                raise ValueError(\"The only valid directions are (N, S, E, W).\")\n",
        "\n",
        "            pygame.draw.line(self.maze_layer, colour, line_head, line_tail)\n",
        "\n",
        "    def __draw_robot(self, colour=(0, 0, 150), transparency=255):\n",
        "\n",
        "        if self.__enable_render is False:\n",
        "            return\n",
        "        \n",
        "        x = int(self.__robot[0] * self.CELL_W + self.CELL_W * 0.5 + 0.5)\n",
        "        y = int(self.__robot[1] * self.CELL_H + self.CELL_H * 0.5 + 0.5)\n",
        "        r = int(min(self.CELL_W, self.CELL_H)/5 + 0.5)\n",
        "\n",
        "        pygame.draw.circle(self.maze_layer, colour + (transparency,), (x, y), r)\n",
        "\n",
        "    def __draw_entrance(self, colour=(0, 0, 150), transparency=235):\n",
        "\n",
        "        self.__colour_cell(self.entrance, colour=colour, transparency=transparency)\n",
        "\n",
        "    def __draw_goal(self, colour=(150, 0, 0), transparency=235):\n",
        "\n",
        "        self.__colour_cell(self.goal, colour=colour, transparency=transparency)\n",
        "\n",
        "    def __draw_portals(self, transparency=160):\n",
        "\n",
        "        if self.__enable_render is False:\n",
        "            return\n",
        "        \n",
        "        colour_range = np.linspace(0, 255, len(self.maze.portals), dtype=int)\n",
        "        colour_i = 0\n",
        "        for portal in self.maze.portals:\n",
        "            colour = ((100 - colour_range[colour_i])% 255, colour_range[colour_i], 0)\n",
        "            colour_i += 1\n",
        "            for location in portal.locations:\n",
        "                self.__colour_cell(location, colour=colour, transparency=transparency)\n",
        "\n",
        "    def __colour_cell(self, cell, colour, transparency):\n",
        "\n",
        "        if self.__enable_render is False:\n",
        "            return\n",
        "\n",
        "        if not (isinstance(cell, (list, tuple, np.ndarray)) and len(cell) == 2):\n",
        "            raise TypeError(\"cell must a be a tuple, list, or numpy array of size 2\")\n",
        "\n",
        "        x = int(cell[0] * self.CELL_W + 0.5 + 1)\n",
        "        y = int(cell[1] * self.CELL_H + 0.5 + 1)\n",
        "        w = int(self.CELL_W + 0.5 - 1)\n",
        "        h = int(self.CELL_H + 0.5 - 1)\n",
        "        pygame.draw.rect(self.maze_layer, colour + (transparency,), (x, y, w, h))\n",
        "\n",
        "    @property\n",
        "    def maze(self):\n",
        "        return self.__maze\n",
        "\n",
        "    @property\n",
        "    def robot(self):\n",
        "        return self.__robot\n",
        "\n",
        "    @property\n",
        "    def entrance(self):\n",
        "        return self.__entrance\n",
        "\n",
        "    @property\n",
        "    def goal(self):\n",
        "        return self.__goal\n",
        "\n",
        "    @property\n",
        "    def game_over(self):\n",
        "        return self.__game_over\n",
        "\n",
        "    @property\n",
        "    def SCREEN_SIZE(self):\n",
        "        return tuple(self.__screen_size)\n",
        "\n",
        "    @property\n",
        "    def SCREEN_W(self):\n",
        "        return int(self.SCREEN_SIZE[0])\n",
        "\n",
        "    @property\n",
        "    def SCREEN_H(self):\n",
        "        return int(self.SCREEN_SIZE[1])\n",
        "\n",
        "    @property\n",
        "    def CELL_W(self):\n",
        "        return float(self.SCREEN_W) / float(self.maze.MAZE_W)\n",
        "\n",
        "    @property\n",
        "    def CELL_H(self):\n",
        "        return float(self.SCREEN_H) / float(self.maze.MAZE_H)\n",
        "\n",
        "class Maze:\n",
        "\n",
        "    COMPASS = {\n",
        "        \"N\": (0, -1),\n",
        "        \"E\": (1, 0),\n",
        "        \"S\": (0, 1),\n",
        "        \"W\": (-1, 0)\n",
        "    }\n",
        "\n",
        "    def __init__(self, maze_cells=None, maze_size=(10,10), has_loops=True, num_portals=0):\n",
        "\n",
        "        # maze member variables\n",
        "        self.maze_cells = maze_cells\n",
        "        self.has_loops = has_loops\n",
        "        self.__portals_dict = dict()\n",
        "        self.__portals = []\n",
        "        self.num_portals = num_portals\n",
        "\n",
        "        # Use existing one if exists\n",
        "        if self.maze_cells is not None:\n",
        "            if isinstance(self.maze_cells, (np.ndarray, np.generic)) and len(self.maze_cells.shape) == 2:\n",
        "                self.maze_size = tuple(maze_cells.shape)\n",
        "            else:\n",
        "                raise ValueError(\"maze_cells must be a 2D NumPy array.\")\n",
        "        # Otherwise, generate a random one\n",
        "        else:\n",
        "            raise ValueError(\"Please upload the maze you downloaded in the submission box!\")\n",
        "         \n",
        "\n",
        "    def save_maze(self, file_path):\n",
        "\n",
        "        if not isinstance(file_path, str):\n",
        "            raise TypeError(\"Invalid file_path. It must be a str.\")\n",
        "\n",
        "        if not os.path.exists(os.path.dirname(file_path)):\n",
        "            raise ValueError(\"Cannot find the directory for %s.\" % file_path)\n",
        "\n",
        "        else:\n",
        "            np.save(file_path, self.maze_cells, allow_pickle=False, fix_imports=True)\n",
        "\n",
        "    @classmethod\n",
        "    def load_maze(cls, file_path):\n",
        "\n",
        "        if not isinstance(file_path, str):\n",
        "            raise TypeError(\"Invalid file_path. It must be a str.\")\n",
        "\n",
        "        if not os.path.exists(file_path):\n",
        "            raise ValueError(\"Cannot find %s.\" % file_path)\n",
        "\n",
        "        else:\n",
        "            return np.load(file_path, allow_pickle=False, fix_imports=True)\n",
        "\n",
        "    def __break_random_walls(self, percent):\n",
        "        # find some random cells to break\n",
        "        num_cells = int(round(self.MAZE_H*self.MAZE_W*percent))\n",
        "        cell_ids = random.sample(range(self.MAZE_W*self.MAZE_H), num_cells)\n",
        "\n",
        "        # for each of those walls\n",
        "        for cell_id in cell_ids:\n",
        "            x = cell_id % self.MAZE_H\n",
        "            y = int(cell_id/self.MAZE_H)\n",
        "\n",
        "            # randomize the compass order\n",
        "            dirs = random.sample(list(self.COMPASS.keys()), len(self.COMPASS))\n",
        "            for dir in dirs:\n",
        "                # break the wall if it's not already open\n",
        "                if self.is_breakable((x, y), dir):\n",
        "                    self.maze_cells[x, y] = self.__break_walls(self.maze_cells[x, y], dir)\n",
        "                    break\n",
        "\n",
        "    def __set_random_portals(self, num_portal_sets, set_size=2):\n",
        "        # find some random cells to break\n",
        "        num_portal_sets = int(num_portal_sets)\n",
        "        set_size = int(set_size)\n",
        "\n",
        "        # limit the maximum number of portal sets to the number of cells available.\n",
        "        max_portal_sets = int(self.MAZE_W * self.MAZE_H / set_size)\n",
        "        num_portal_sets = min(max_portal_sets, num_portal_sets)\n",
        "\n",
        "        # the first and last cells are reserved\n",
        "        cell_ids = random.sample(range(1, self.MAZE_W * self.MAZE_H - 1), num_portal_sets*set_size)\n",
        "\n",
        "        for i in range(num_portal_sets):\n",
        "            # sample the set_size number of sell\n",
        "            portal_cell_ids = random.sample(cell_ids, set_size)\n",
        "            portal_locations = []\n",
        "            for portal_cell_id in portal_cell_ids:\n",
        "                # remove the cell from the set of potential cell_ids\n",
        "                cell_ids.pop(cell_ids.index(portal_cell_id))\n",
        "                # convert portal ids to location\n",
        "                x = portal_cell_id % self.MAZE_H\n",
        "                y = int(portal_cell_id / self.MAZE_H)\n",
        "                portal_locations.append((x,y))\n",
        "            # append the new portal to the maze\n",
        "            portal = Portal(*portal_locations)\n",
        "            self.__portals.append(portal)\n",
        "\n",
        "            # create a dictionary of portals\n",
        "            for portal_location in portal_locations:\n",
        "                self.__portals_dict[portal_location] = portal\n",
        "\n",
        "    def is_open(self, cell_id, dir):\n",
        "        # check if it would be out-of-bound\n",
        "        x1 = cell_id[0] + self.COMPASS[dir][0]\n",
        "        y1 = cell_id[1] + self.COMPASS[dir][1]\n",
        "\n",
        "        # if cell is still within bounds after the move\n",
        "        if self.is_within_bound(x1, y1):\n",
        "            # check if the wall is opened\n",
        "            this_wall = bool(self.get_walls_status(self.maze_cells[cell_id[0], cell_id[1]])[dir])\n",
        "            other_wall = bool(self.get_walls_status(self.maze_cells[x1, y1])[self.__get_opposite_wall(dir)])\n",
        "            return this_wall or other_wall\n",
        "        return False\n",
        "\n",
        "    def is_breakable(self, cell_id, dir):\n",
        "        # check if it would be out-of-bound\n",
        "        x1 = cell_id[0] + self.COMPASS[dir][0]\n",
        "        y1 = cell_id[1] + self.COMPASS[dir][1]\n",
        "\n",
        "        return not self.is_open(cell_id, dir) and self.is_within_bound(x1, y1)\n",
        "\n",
        "    def is_within_bound(self, x, y):\n",
        "        # true if cell is still within bounds after the move\n",
        "        return 0 <= x < self.MAZE_W and 0 <= y < self.MAZE_H\n",
        "\n",
        "    def is_portal(self, cell):\n",
        "        return tuple(cell) in self.__portals_dict\n",
        "\n",
        "    @property\n",
        "    def portals(self):\n",
        "        return tuple(self.__portals)\n",
        "\n",
        "    def get_portal(self, cell):\n",
        "        if cell in self.__portals_dict:\n",
        "            return self.__portals_dict[cell]\n",
        "        return None\n",
        "\n",
        "    @property\n",
        "    def MAZE_W(self):\n",
        "        return int(self.maze_size[0])\n",
        "\n",
        "    @property\n",
        "    def MAZE_H(self):\n",
        "        return int(self.maze_size[1])\n",
        "\n",
        "    @classmethod\n",
        "    def get_walls_status(cls, cell):\n",
        "        walls = {\n",
        "            \"N\" : (cell & 0x1) >> 0,\n",
        "            \"E\" : (cell & 0x2) >> 1,\n",
        "            \"S\" : (cell & 0x4) >> 2,\n",
        "            \"W\" : (cell & 0x8) >> 3,\n",
        "        }\n",
        "        return walls\n",
        "\n",
        "    @classmethod\n",
        "    def all_walls_intact(cls, cell):\n",
        "        return cell & 0xF == 0\n",
        "\n",
        "    @classmethod\n",
        "    def num_walls_broken(cls, cell):\n",
        "        walls = cls.get_walls_status(cell)\n",
        "        num_broken = 0\n",
        "        for wall_broken in walls.values():\n",
        "            num_broken += wall_broken\n",
        "        return num_broken\n",
        "\n",
        "    @classmethod\n",
        "    def __break_walls(cls, cell, dirs):\n",
        "        if \"N\" in dirs:\n",
        "            cell |= 0x1\n",
        "        if \"E\" in dirs:\n",
        "            cell |= 0x2\n",
        "        if \"S\" in dirs:\n",
        "            cell |= 0x4\n",
        "        if \"W\" in dirs:\n",
        "            cell |= 0x8\n",
        "        return cell\n",
        "\n",
        "    @classmethod\n",
        "    def __get_opposite_wall(cls, dirs):\n",
        "\n",
        "        if not isinstance(dirs, str):\n",
        "            raise TypeError(\"dirs must be a str.\")\n",
        "\n",
        "        opposite_dirs = \"\"\n",
        "\n",
        "        for dir in dirs:\n",
        "            if dir == \"N\":\n",
        "                opposite_dir = \"S\"\n",
        "            elif dir == \"S\":\n",
        "                opposite_dir = \"N\"\n",
        "            elif dir == \"E\":\n",
        "                opposite_dir = \"W\"\n",
        "            elif dir == \"W\":\n",
        "                opposite_dir = \"E\"\n",
        "            else:\n",
        "                raise ValueError(\"The only valid directions are (N, S, E, W).\")\n",
        "\n",
        "            opposite_dirs += opposite_dir\n",
        "\n",
        "        return opposite_dirs\n",
        "        \n",
        "class MazeEnvSample15x15(MazeEnv):\n",
        "\n",
        "    def __init__(self, enable_render=True):\n",
        "        super(MazeEnvSample15x15, self).__init__(maze_file=\"/content/maze2d_15x15.npy\", enable_render=enable_render)\n",
        "\n",
        "\n",
        "class MazeEnvSample30x30(MazeEnv):\n",
        "\n",
        "    def __init__(self, enable_render=True):\n",
        "        super(MazeEnvSample30x30, self).__init__(maze_file=\"/content/maze2d_30x30.npy\", enable_render=enable_render)"
      ],
      "metadata": {
        "id": "ma68Mu_rnvCb",
        "colab": {
          "base_uri": "https://localhost:8080/"
        },
        "outputId": "d8b9327e-61ec-4aaa-e49c-1bcbfe1994ee"
      },
      "execution_count": 24,
      "outputs": [
        {
          "output_type": "stream",
          "name": "stderr",
          "text": [
            "Exception ignored in: <function MazeEnv.__del__ at 0x7f9e0700e680>\n",
            "Traceback (most recent call last):\n",
            "  File \"<ipython-input-4-bbacf42c3f49>\", line 56, in __del__\n",
            "AttributeError: 'MazeEnvSample15x15' object has no attribute 'maze_view'\n"
          ]
        }
      ]
    },
    {
      "cell_type": "markdown",
      "source": [
        "### Upload the maze files\n",
        "Upload the maze files you downloaded in the submission box"
      ],
      "metadata": {
        "id": "zRG2yQvoKq6x"
      }
    },
    {
      "cell_type": "code",
      "source": [
        "from google.colab import files\n",
        "print('Please upload the maze2d_15x15 file')\n",
        "maze2d_15x15 = files.upload()\n",
        "print('User uploaded file \"{name}\" with length {length} bytes'.format(\n",
        "      name=list(maze2d_15x15)[0], length=len(list(maze2d_15x15)[0])))\n",
        "\n",
        "print('\\nPlease upload the maze2d_30x30 file')\n",
        "maze2d_30x30 = files.upload()\n",
        "print('User uploaded file \"{name}\" with length {length} bytes'.format(\n",
        "      name=list(maze2d_30x30)[0], length=len(list(maze2d_30x30)[0])))"
      ],
      "metadata": {
        "colab": {
          "resources": {
            "http://localhost:8080/nbextensions/google.colab/files.js": {
              "data": "Ly8gQ29weXJpZ2h0IDIwMTcgR29vZ2xlIExMQwovLwovLyBMaWNlbnNlZCB1bmRlciB0aGUgQXBhY2hlIExpY2Vuc2UsIFZlcnNpb24gMi4wICh0aGUgIkxpY2Vuc2UiKTsKLy8geW91IG1heSBub3QgdXNlIHRoaXMgZmlsZSBleGNlcHQgaW4gY29tcGxpYW5jZSB3aXRoIHRoZSBMaWNlbnNlLgovLyBZb3UgbWF5IG9idGFpbiBhIGNvcHkgb2YgdGhlIExpY2Vuc2UgYXQKLy8KLy8gICAgICBodHRwOi8vd3d3LmFwYWNoZS5vcmcvbGljZW5zZXMvTElDRU5TRS0yLjAKLy8KLy8gVW5sZXNzIHJlcXVpcmVkIGJ5IGFwcGxpY2FibGUgbGF3IG9yIGFncmVlZCB0byBpbiB3cml0aW5nLCBzb2Z0d2FyZQovLyBkaXN0cmlidXRlZCB1bmRlciB0aGUgTGljZW5zZSBpcyBkaXN0cmlidXRlZCBvbiBhbiAiQVMgSVMiIEJBU0lTLAovLyBXSVRIT1VUIFdBUlJBTlRJRVMgT1IgQ09ORElUSU9OUyBPRiBBTlkgS0lORCwgZWl0aGVyIGV4cHJlc3Mgb3IgaW1wbGllZC4KLy8gU2VlIHRoZSBMaWNlbnNlIGZvciB0aGUgc3BlY2lmaWMgbGFuZ3VhZ2UgZ292ZXJuaW5nIHBlcm1pc3Npb25zIGFuZAovLyBsaW1pdGF0aW9ucyB1bmRlciB0aGUgTGljZW5zZS4KCi8qKgogKiBAZmlsZW92ZXJ2aWV3IEhlbHBlcnMgZm9yIGdvb2dsZS5jb2xhYiBQeXRob24gbW9kdWxlLgogKi8KKGZ1bmN0aW9uKHNjb3BlKSB7CmZ1bmN0aW9uIHNwYW4odGV4dCwgc3R5bGVBdHRyaWJ1dGVzID0ge30pIHsKICBjb25zdCBlbGVtZW50ID0gZG9jdW1lbnQuY3JlYXRlRWxlbWVudCgnc3BhbicpOwogIGVsZW1lbnQudGV4dENvbnRlbnQgPSB0ZXh0OwogIGZvciAoY29uc3Qga2V5IG9mIE9iamVjdC5rZXlzKHN0eWxlQXR0cmlidXRlcykpIHsKICAgIGVsZW1lbnQuc3R5bGVba2V5XSA9IHN0eWxlQXR0cmlidXRlc1trZXldOwogIH0KICByZXR1cm4gZWxlbWVudDsKfQoKLy8gTWF4IG51bWJlciBvZiBieXRlcyB3aGljaCB3aWxsIGJlIHVwbG9hZGVkIGF0IGEgdGltZS4KY29uc3QgTUFYX1BBWUxPQURfU0laRSA9IDEwMCAqIDEwMjQ7CgpmdW5jdGlvbiBfdXBsb2FkRmlsZXMoaW5wdXRJZCwgb3V0cHV0SWQpIHsKICBjb25zdCBzdGVwcyA9IHVwbG9hZEZpbGVzU3RlcChpbnB1dElkLCBvdXRwdXRJZCk7CiAgY29uc3Qgb3V0cHV0RWxlbWVudCA9IGRvY3VtZW50LmdldEVsZW1lbnRCeUlkKG91dHB1dElkKTsKICAvLyBDYWNoZSBzdGVwcyBvbiB0aGUgb3V0cHV0RWxlbWVudCB0byBtYWtlIGl0IGF2YWlsYWJsZSBmb3IgdGhlIG5leHQgY2FsbAogIC8vIHRvIHVwbG9hZEZpbGVzQ29udGludWUgZnJvbSBQeXRob24uCiAgb3V0cHV0RWxlbWVudC5zdGVwcyA9IHN0ZXBzOwoKICByZXR1cm4gX3VwbG9hZEZpbGVzQ29udGludWUob3V0cHV0SWQpOwp9CgovLyBUaGlzIGlzIHJvdWdobHkgYW4gYXN5bmMgZ2VuZXJhdG9yIChub3Qgc3VwcG9ydGVkIGluIHRoZSBicm93c2VyIHlldCksCi8vIHdoZXJlIHRoZXJlIGFyZSBtdWx0aXBsZSBhc3luY2hyb25vdXMgc3RlcHMgYW5kIHRoZSBQeXRob24gc2lkZSBpcyBnb2luZwovLyB0byBwb2xsIGZvciBjb21wbGV0aW9uIG9mIGVhY2ggc3RlcC4KLy8gVGhpcyB1c2VzIGEgUHJvbWlzZSB0byBibG9jayB0aGUgcHl0aG9uIHNpZGUgb24gY29tcGxldGlvbiBvZiBlYWNoIHN0ZXAsCi8vIHRoZW4gcGFzc2VzIHRoZSByZXN1bHQgb2YgdGhlIHByZXZpb3VzIHN0ZXAgYXMgdGhlIGlucHV0IHRvIHRoZSBuZXh0IHN0ZXAuCmZ1bmN0aW9uIF91cGxvYWRGaWxlc0NvbnRpbnVlKG91dHB1dElkKSB7CiAgY29uc3Qgb3V0cHV0RWxlbWVudCA9IGRvY3VtZW50LmdldEVsZW1lbnRCeUlkKG91dHB1dElkKTsKICBjb25zdCBzdGVwcyA9IG91dHB1dEVsZW1lbnQuc3RlcHM7CgogIGNvbnN0IG5leHQgPSBzdGVwcy5uZXh0KG91dHB1dEVsZW1lbnQubGFzdFByb21pc2VWYWx1ZSk7CiAgcmV0dXJuIFByb21pc2UucmVzb2x2ZShuZXh0LnZhbHVlLnByb21pc2UpLnRoZW4oKHZhbHVlKSA9PiB7CiAgICAvLyBDYWNoZSB0aGUgbGFzdCBwcm9taXNlIHZhbHVlIHRvIG1ha2UgaXQgYXZhaWxhYmxlIHRvIHRoZSBuZXh0CiAgICAvLyBzdGVwIG9mIHRoZSBnZW5lcmF0b3IuCiAgICBvdXRwdXRFbGVtZW50Lmxhc3RQcm9taXNlVmFsdWUgPSB2YWx1ZTsKICAgIHJldHVybiBuZXh0LnZhbHVlLnJlc3BvbnNlOwogIH0pOwp9CgovKioKICogR2VuZXJhdG9yIGZ1bmN0aW9uIHdoaWNoIGlzIGNhbGxlZCBiZXR3ZWVuIGVhY2ggYXN5bmMgc3RlcCBvZiB0aGUgdXBsb2FkCiAqIHByb2Nlc3MuCiAqIEBwYXJhbSB7c3RyaW5nfSBpbnB1dElkIEVsZW1lbnQgSUQgb2YgdGhlIGlucHV0IGZpbGUgcGlja2VyIGVsZW1lbnQuCiAqIEBwYXJhbSB7c3RyaW5nfSBvdXRwdXRJZCBFbGVtZW50IElEIG9mIHRoZSBvdXRwdXQgZGlzcGxheS4KICogQHJldHVybiB7IUl0ZXJhYmxlPCFPYmplY3Q+fSBJdGVyYWJsZSBvZiBuZXh0IHN0ZXBzLgogKi8KZnVuY3Rpb24qIHVwbG9hZEZpbGVzU3RlcChpbnB1dElkLCBvdXRwdXRJZCkgewogIGNvbnN0IGlucHV0RWxlbWVudCA9IGRvY3VtZW50LmdldEVsZW1lbnRCeUlkKGlucHV0SWQpOwogIGlucHV0RWxlbWVudC5kaXNhYmxlZCA9IGZhbHNlOwoKICBjb25zdCBvdXRwdXRFbGVtZW50ID0gZG9jdW1lbnQuZ2V0RWxlbWVudEJ5SWQob3V0cHV0SWQpOwogIG91dHB1dEVsZW1lbnQuaW5uZXJIVE1MID0gJyc7CgogIGNvbnN0IHBpY2tlZFByb21pc2UgPSBuZXcgUHJvbWlzZSgocmVzb2x2ZSkgPT4gewogICAgaW5wdXRFbGVtZW50LmFkZEV2ZW50TGlzdGVuZXIoJ2NoYW5nZScsIChlKSA9PiB7CiAgICAgIHJlc29sdmUoZS50YXJnZXQuZmlsZXMpOwogICAgfSk7CiAgfSk7CgogIGNvbnN0IGNhbmNlbCA9IGRvY3VtZW50LmNyZWF0ZUVsZW1lbnQoJ2J1dHRvbicpOwogIGlucHV0RWxlbWVudC5wYXJlbnRFbGVtZW50LmFwcGVuZENoaWxkKGNhbmNlbCk7CiAgY2FuY2VsLnRleHRDb250ZW50ID0gJ0NhbmNlbCB1cGxvYWQnOwogIGNvbnN0IGNhbmNlbFByb21pc2UgPSBuZXcgUHJvbWlzZSgocmVzb2x2ZSkgPT4gewogICAgY2FuY2VsLm9uY2xpY2sgPSAoKSA9PiB7CiAgICAgIHJlc29sdmUobnVsbCk7CiAgICB9OwogIH0pOwoKICAvLyBXYWl0IGZvciB0aGUgdXNlciB0byBwaWNrIHRoZSBmaWxlcy4KICBjb25zdCBmaWxlcyA9IHlpZWxkIHsKICAgIHByb21pc2U6IFByb21pc2UucmFjZShbcGlja2VkUHJvbWlzZSwgY2FuY2VsUHJvbWlzZV0pLAogICAgcmVzcG9uc2U6IHsKICAgICAgYWN0aW9uOiAnc3RhcnRpbmcnLAogICAgfQogIH07CgogIGNhbmNlbC5yZW1vdmUoKTsKCiAgLy8gRGlzYWJsZSB0aGUgaW5wdXQgZWxlbWVudCBzaW5jZSBmdXJ0aGVyIHBpY2tzIGFyZSBub3QgYWxsb3dlZC4KICBpbnB1dEVsZW1lbnQuZGlzYWJsZWQgPSB0cnVlOwoKICBpZiAoIWZpbGVzKSB7CiAgICByZXR1cm4gewogICAgICByZXNwb25zZTogewogICAgICAgIGFjdGlvbjogJ2NvbXBsZXRlJywKICAgICAgfQogICAgfTsKICB9CgogIGZvciAoY29uc3QgZmlsZSBvZiBmaWxlcykgewogICAgY29uc3QgbGkgPSBkb2N1bWVudC5jcmVhdGVFbGVtZW50KCdsaScpOwogICAgbGkuYXBwZW5kKHNwYW4oZmlsZS5uYW1lLCB7Zm9udFdlaWdodDogJ2JvbGQnfSkpOwogICAgbGkuYXBwZW5kKHNwYW4oCiAgICAgICAgYCgke2ZpbGUudHlwZSB8fCAnbi9hJ30pIC0gJHtmaWxlLnNpemV9IGJ5dGVzLCBgICsKICAgICAgICBgbGFzdCBtb2RpZmllZDogJHsKICAgICAgICAgICAgZmlsZS5sYXN0TW9kaWZpZWREYXRlID8gZmlsZS5sYXN0TW9kaWZpZWREYXRlLnRvTG9jYWxlRGF0ZVN0cmluZygpIDoKICAgICAgICAgICAgICAgICAgICAgICAgICAgICAgICAgICAgJ24vYSd9IC0gYCkpOwogICAgY29uc3QgcGVyY2VudCA9IHNwYW4oJzAlIGRvbmUnKTsKICAgIGxpLmFwcGVuZENoaWxkKHBlcmNlbnQpOwoKICAgIG91dHB1dEVsZW1lbnQuYXBwZW5kQ2hpbGQobGkpOwoKICAgIGNvbnN0IGZpbGVEYXRhUHJvbWlzZSA9IG5ldyBQcm9taXNlKChyZXNvbHZlKSA9PiB7CiAgICAgIGNvbnN0IHJlYWRlciA9IG5ldyBGaWxlUmVhZGVyKCk7CiAgICAgIHJlYWRlci5vbmxvYWQgPSAoZSkgPT4gewogICAgICAgIHJlc29sdmUoZS50YXJnZXQucmVzdWx0KTsKICAgICAgfTsKICAgICAgcmVhZGVyLnJlYWRBc0FycmF5QnVmZmVyKGZpbGUpOwogICAgfSk7CiAgICAvLyBXYWl0IGZvciB0aGUgZGF0YSB0byBiZSByZWFkeS4KICAgIGxldCBmaWxlRGF0YSA9IHlpZWxkIHsKICAgICAgcHJvbWlzZTogZmlsZURhdGFQcm9taXNlLAogICAgICByZXNwb25zZTogewogICAgICAgIGFjdGlvbjogJ2NvbnRpbnVlJywKICAgICAgfQogICAgfTsKCiAgICAvLyBVc2UgYSBjaHVua2VkIHNlbmRpbmcgdG8gYXZvaWQgbWVzc2FnZSBzaXplIGxpbWl0cy4gU2VlIGIvNjIxMTU2NjAuCiAgICBsZXQgcG9zaXRpb24gPSAwOwogICAgZG8gewogICAgICBjb25zdCBsZW5ndGggPSBNYXRoLm1pbihmaWxlRGF0YS5ieXRlTGVuZ3RoIC0gcG9zaXRpb24sIE1BWF9QQVlMT0FEX1NJWkUpOwogICAgICBjb25zdCBjaHVuayA9IG5ldyBVaW50OEFycmF5KGZpbGVEYXRhLCBwb3NpdGlvbiwgbGVuZ3RoKTsKICAgICAgcG9zaXRpb24gKz0gbGVuZ3RoOwoKICAgICAgY29uc3QgYmFzZTY0ID0gYnRvYShTdHJpbmcuZnJvbUNoYXJDb2RlLmFwcGx5KG51bGwsIGNodW5rKSk7CiAgICAgIHlpZWxkIHsKICAgICAgICByZXNwb25zZTogewogICAgICAgICAgYWN0aW9uOiAnYXBwZW5kJywKICAgICAgICAgIGZpbGU6IGZpbGUubmFtZSwKICAgICAgICAgIGRhdGE6IGJhc2U2NCwKICAgICAgICB9LAogICAgICB9OwoKICAgICAgbGV0IHBlcmNlbnREb25lID0gZmlsZURhdGEuYnl0ZUxlbmd0aCA9PT0gMCA/CiAgICAgICAgICAxMDAgOgogICAgICAgICAgTWF0aC5yb3VuZCgocG9zaXRpb24gLyBmaWxlRGF0YS5ieXRlTGVuZ3RoKSAqIDEwMCk7CiAgICAgIHBlcmNlbnQudGV4dENvbnRlbnQgPSBgJHtwZXJjZW50RG9uZX0lIGRvbmVgOwoKICAgIH0gd2hpbGUgKHBvc2l0aW9uIDwgZmlsZURhdGEuYnl0ZUxlbmd0aCk7CiAgfQoKICAvLyBBbGwgZG9uZS4KICB5aWVsZCB7CiAgICByZXNwb25zZTogewogICAgICBhY3Rpb246ICdjb21wbGV0ZScsCiAgICB9CiAgfTsKfQoKc2NvcGUuZ29vZ2xlID0gc2NvcGUuZ29vZ2xlIHx8IHt9OwpzY29wZS5nb29nbGUuY29sYWIgPSBzY29wZS5nb29nbGUuY29sYWIgfHwge307CnNjb3BlLmdvb2dsZS5jb2xhYi5fZmlsZXMgPSB7CiAgX3VwbG9hZEZpbGVzLAogIF91cGxvYWRGaWxlc0NvbnRpbnVlLAp9Owp9KShzZWxmKTsK",
              "ok": true,
              "headers": [
                [
                  "content-type",
                  "application/javascript"
                ]
              ],
              "status": 200,
              "status_text": ""
            }
          },
          "base_uri": "https://localhost:8080/",
          "height": 215
        },
        "id": "KjrQvNrZJKI2",
        "outputId": "0cfe12ef-b1ce-4f76-886d-727ee517a759"
      },
      "execution_count": 25,
      "outputs": [
        {
          "output_type": "stream",
          "name": "stdout",
          "text": [
            "Please upload the maze2d_15x15 file\n"
          ]
        },
        {
          "output_type": "display_data",
          "data": {
            "text/plain": [
              "<IPython.core.display.HTML object>"
            ],
            "text/html": [
              "\n",
              "     <input type=\"file\" id=\"files-450c8946-7b4e-4c15-b98b-41e6448f46c3\" name=\"files[]\" multiple disabled\n",
              "        style=\"border:none\" />\n",
              "     <output id=\"result-450c8946-7b4e-4c15-b98b-41e6448f46c3\">\n",
              "      Upload widget is only available when the cell has been executed in the\n",
              "      current browser session. Please rerun this cell to enable.\n",
              "      </output>\n",
              "      <script src=\"/nbextensions/google.colab/files.js\"></script> "
            ]
          },
          "metadata": {}
        },
        {
          "output_type": "stream",
          "name": "stdout",
          "text": [
            "Saving maze2d_15x15.npy to maze2d_15x15 (1).npy\n",
            "User uploaded file \"maze2d_15x15.npy\" with length 16 bytes\n",
            "\n",
            "Please upload the maze2d_30x30 file\n"
          ]
        },
        {
          "output_type": "display_data",
          "data": {
            "text/plain": [
              "<IPython.core.display.HTML object>"
            ],
            "text/html": [
              "\n",
              "     <input type=\"file\" id=\"files-cd245cf6-6b80-4f5f-a174-bea1f0b7c1f0\" name=\"files[]\" multiple disabled\n",
              "        style=\"border:none\" />\n",
              "     <output id=\"result-cd245cf6-6b80-4f5f-a174-bea1f0b7c1f0\">\n",
              "      Upload widget is only available when the cell has been executed in the\n",
              "      current browser session. Please rerun this cell to enable.\n",
              "      </output>\n",
              "      <script src=\"/nbextensions/google.colab/files.js\"></script> "
            ]
          },
          "metadata": {}
        },
        {
          "output_type": "stream",
          "name": "stdout",
          "text": [
            "Saving maze2d_30x30.npy to maze2d_30x30 (1).npy\n",
            "User uploaded file \"maze2d_30x30.npy\" with length 16 bytes\n"
          ]
        }
      ]
    },
    {
      "cell_type": "code",
      "source": [
        "from enum import Enum\n",
        "from typing import Tuple, List, Union, Optional, NamedTuple\n",
        "from copy import copy\n",
        "\n",
        "\n",
        "class Algorithm(str, Enum):\n",
        "    MonteCarlo = 'MonteCarlo'\n",
        "    QLearning = 'QLearning'\n",
        "\n",
        "\n",
        "class ValueMethod(str, Enum):\n",
        "    FirstVisit = 'FirstVisit'\n",
        "    EveryVisit = 'EveryVisit'\n",
        "\n",
        "\n",
        "class EvaluationMethod(str, Enum):\n",
        "    State = 'State'\n",
        "    ActionState = 'ActionState'\n",
        "\n",
        "\n",
        "class PolicyArgs(NamedTuple):\n",
        "    alpha: Optional[float]\n",
        "    gamma: Optional[float]\n",
        "    epsilon: Optional[float]\n",
        "    stochastic_probability: float\n",
        "    is_epsilon_decrease: Optional[bool]\n",
        "\n",
        "StateType = Tuple[int, int]\n",
        "StateActionType = Tuple[StateType, str]"
      ],
      "metadata": {
        "id": "pqtino58SK_W"
      },
      "execution_count": 26,
      "outputs": []
    },
    {
      "cell_type": "code",
      "source": [
        "def state_as_tuple(state):\n",
        "    return int(state[0]), int(state[1])\n",
        "\n",
        "\n",
        "def get_action_highest_value(env, state_values):\n",
        "    max_value = -np.inf\n",
        "    opt_action = None\n",
        "\n",
        "    for action in env.ACTION:\n",
        "        cur_state = state_as_tuple(env.state)\n",
        "        direction = env.maze_view.maze.COMPASS[action]\n",
        "        next_state = cur_state[0] + direction[0], cur_state[1] + direction[1]\n",
        "\n",
        "        if not env.maze_view.maze.is_within_bound(next_state[0], next_state[1]):\n",
        "            next_state = cur_state\n",
        "\n",
        "        next_state_value = state_values[next_state[0], next_state[1]]\n",
        "        if next_state_value > max_value:\n",
        "            max_value = next_state_value\n",
        "            opt_action = action\n",
        "\n",
        "    return opt_action\n",
        "\n",
        "\n",
        "def calc_action(env, cur_state, evaluation_method, epsilon, state_policy):\n",
        "    \"\"\" Calculate action according to policy \"\"\"\n",
        "    action = None\n",
        "    if evaluation_method == EvaluationMethod.State:\n",
        "        action = get_action_highest_value(env, state_policy)\n",
        "    elif evaluation_method == EvaluationMethod.ActionState:\n",
        "        action = state_policy[cur_state[0]][cur_state[1]]\n",
        "\n",
        "    if epsilon:\n",
        "        action = implement_action_probability(action, env.ACTION, 1 - epsilon)\n",
        "\n",
        "    return action\n",
        "\n",
        "\n",
        "def improve_monte_carlo_policy(state_list, rewards, returns, state_policy, state_action_values, evaluation_method,\n",
        "                               args):\n",
        "    G = 0\n",
        "    for i in reversed(range(len(state_list))):\n",
        "        G = args.gamma * G + rewards[i]\n",
        "        if state_list[i] not in state_list[:i - 1]:\n",
        "            if returns.get(state_list[i]):\n",
        "                returns[state_list[i]].append(G)\n",
        "            else:\n",
        "                returns[state_list[i]] = [G]\n",
        "\n",
        "            if evaluation_method == EvaluationMethod.State:\n",
        "                state_policy[state_list[i][0]][state_list[i][1]] = np.average(returns[state_list[i]])\n",
        "            elif evaluation_method == EvaluationMethod.ActionState:\n",
        "                state_action_values[state_list[i][0][0]][state_list[i][0][1]][\n",
        "                    env.ACTION.index(state_list[i][1])] = np.average(returns[state_list[i]])\n",
        "                state_policy[state_list[i][0][0]][state_list[i][0][1]] = env.ACTION[\n",
        "                    np.argmax(state_action_values[state_list[i][0][0]][state_list[i][0][1]])]\n",
        "\n",
        "\n",
        "def improve_q_learning_policy(env, cur_state, cur_action, reward, state_actions, state_policy, args):\n",
        "    next_state = state_as_tuple(env.state)\n",
        "    next_action = calc_action(env, next_state, EvaluationMethod.ActionState, args.epsilon, state_policy)\n",
        "\n",
        "    q_s_a = state_actions[cur_state[0]][cur_state[1]][env.ACTION.index(cur_action)]\n",
        "    q_s_a += args.alpha * (reward + args.gamma * state_actions[next_state[0]][next_state[1]][\n",
        "        env.ACTION.index(next_action)] - q_s_a)\n",
        "    state_actions[cur_state[0]][cur_state[1]][env.ACTION.index(cur_action)] = q_s_a\n",
        "    state_policy[cur_state[0]][cur_state[1]] = env.ACTION[np.argmax(state_actions[cur_state[0]][cur_state[1]])]\n",
        "\n",
        "\n",
        "def implement_action_probability(action, action_list, probability):\n",
        "    if len(action_list) <= 1:\n",
        "        return action\n",
        "\n",
        "    opt_action_index = action_list.index(action)\n",
        "    non_opt_action_probability = (1 - probability) / (len(action_list) - 1)\n",
        "    probabilities = np.full(len(action_list), non_opt_action_probability)\n",
        "    probabilities[opt_action_index] = probability\n",
        "\n",
        "    return random.choices(action_list, probabilities)[0]\n",
        "\n",
        "\n",
        "def initialize_values(env, policy, evaluation_method):\n",
        "    state_policy = None\n",
        "    state_action_values = None\n",
        "    if evaluation_method == EvaluationMethod.State:\n",
        "        state_policy = -np.random.random_sample(size=(env.maze_size[1], env.maze_size[0]))\n",
        "    elif evaluation_method == EvaluationMethod.ActionState:\n",
        "        state_policy = np.random.choice(env.ACTION, size=(env.maze_size[1], env.maze_size[0]))\n",
        "        state_action_values = -np.random.random_sample(size=(env.maze_size[1], env.maze_size[0], len(env.ACTION)))\n",
        "\n",
        "        if policy.QLearning:\n",
        "            for i in range(len(env.ACTION)):  # init terminal state to 0\n",
        "                state_action_values[env.maze_size[1] - 1][env.maze_size[0] - 1][i] = 0\n",
        "\n",
        "    return state_action_values, state_policy\n",
        "\n",
        "\n",
        "def run_policy(env: MazeEnv, algorithm: Algorithm, evaluation_method: EvaluationMethod,\n",
        "               args: PolicyArgs, exploration: bool = False, overwrite_rewards={}):\n",
        "    episode_steps_counts = []\n",
        "    # Initialize values\n",
        "    returns = {}\n",
        "    state_action_values, state_policy = initialize_values(env, algorithm, evaluation_method)\n",
        "\n",
        "    # Run episodes\n",
        "    for episode_number in range(NUM_OF_EPISODES):\n",
        "        env.reset()\n",
        "        if exploration and episode_number < NUM_OF_EPISODES - 10 and episode_number % K != 0:  # Always start last 10 episodes from starting point\n",
        "            env.state = np.random.randint(0, env.maze_view.maze_size, size=2)\n",
        "\n",
        "        done = False\n",
        "        state_list: List[Union[StateType, StateActionType]] = []\n",
        "        rewards = []\n",
        "        cur_epsilon = args.epsilon * (1 - episode_number / NUM_OF_EPISODES) \\\n",
        "            if args.epsilon and args.is_epsilon_decrease else args.epsilon\n",
        "        step_cnt = 0\n",
        "\n",
        "        # generate an episode\n",
        "        while not done:\n",
        "            if step_cnt == MAX_STEP:\n",
        "                break\n",
        "\n",
        "            step_cnt += 1\n",
        "            state = state_as_tuple(env.state)\n",
        "            action = calc_action(env, state, evaluation_method, cur_epsilon, state_policy)\n",
        "            action = implement_action_probability(action, env.ACTION, args.stochastic_probability)\n",
        "\n",
        "            # Take step\n",
        "            observation, reward, done, info = env.step(action)\n",
        "\n",
        "            if overwrite_rewards.get(state_as_tuple(observation)):\n",
        "                reward = overwrite_rewards.get(state_as_tuple(observation))\n",
        "\n",
        "            if algorithm == Algorithm.MonteCarlo:\n",
        "                # Record step\n",
        "                if evaluation_method == EvaluationMethod.State:\n",
        "                    state_list.append(state)\n",
        "                elif evaluation_method == EvaluationMethod.ActionState:\n",
        "                    state_list.append((state, action))\n",
        "                rewards.append(reward)\n",
        "            elif algorithm == Algorithm.QLearning:\n",
        "                # improve policy\n",
        "                improve_q_learning_policy(env, state, action, reward, state_action_values, state_policy, args)\n",
        "\n",
        "        if algorithm == Algorithm.MonteCarlo:\n",
        "            # improve policy\n",
        "            improve_monte_carlo_policy(state_list, rewards, returns, state_policy, state_action_values,\n",
        "                                       evaluation_method, args)\n",
        "\n",
        "        if episode_number % K == 0:\n",
        "            print(f\"Generated an episode {episode_number} -- took {step_cnt} steps\")\n",
        "            episode_steps_counts.append(step_cnt)\n",
        "\n",
        "        if episode_number == NUM_OF_EPISODES / 2:\n",
        "          mid_policy = copy(state_policy)\n",
        "\n",
        "    return episode_steps_counts, state_policy, mid_policy"
      ],
      "metadata": {
        "id": "qppk4zeNTEgI"
      },
      "execution_count": 27,
      "outputs": []
    },
    {
      "cell_type": "code",
      "source": [
        "def run(env, policy, evaluation_method, stochastic_probability, epsilon):\n",
        "    env = wrap_env(env)\n",
        "    env.reset()\n",
        "    done = False\n",
        "    step_cnt = 0\n",
        "\n",
        "    while not done:\n",
        "        state = state_as_tuple(env.state)\n",
        "        action = calc_action(env, state, evaluation_method, epsilon, policy)\n",
        "        action = implement_action_probability(action, env.ACTION, stochastic_probability)\n",
        "\n",
        "        # Take step\n",
        "        observation, reward, done, info = env.step(action)\n",
        "\n",
        "        step_cnt += 1\n",
        "\n",
        "    env.close()\n",
        "    show_video()\n",
        "\n",
        "    return step_cnt"
      ],
      "metadata": {
        "id": "qw4wFmoVDS62"
      },
      "execution_count": 21,
      "outputs": []
    },
    {
      "cell_type": "markdown",
      "source": [
        "### Environment 15X15"
      ],
      "metadata": {
        "id": "enloRj7ON4iu"
      }
    },
    {
      "cell_type": "markdown",
      "source": [
        "**MONTE CARLO**"
      ],
      "metadata": {
        "id": "FdcUqKhjL-on"
      }
    },
    {
      "cell_type": "code",
      "source": [
        "MAX_STEP = 2500\n",
        "NUM_OF_EPISODES = 400\n",
        "K = 25\n",
        "\n",
        "env = MazeEnvSample15x15()\n",
        "env.reset()\n",
        "\n",
        "algorithm = Algorithm.MonteCarlo\n",
        "evaluation_method = EvaluationMethod.State\n",
        "\n",
        "exploration = True\n",
        "alpha = None\n",
        "gamma = 1.0\n",
        "epsilon = 0.25\n",
        "stochastic_probability = 0.9\n",
        "is_epsilon_decrease = True\n",
        "\n",
        "\n",
        "\n",
        "policy_args = PolicyArgs(\n",
        "    alpha=alpha,\n",
        "    gamma=gamma,\n",
        "    epsilon=epsilon,\n",
        "    stochastic_probability=stochastic_probability,\n",
        "    is_epsilon_decrease=is_epsilon_decrease\n",
        ")\n",
        "\n",
        "MC15_episode_steps_counts, MC15_final_policy, MC15_mid_policy = run_policy(env=env,\n",
        "                                                                algorithm=algorithm,\n",
        "                                                                evaluation_method=evaluation_method,\n",
        "                                                                exploration=exploration,\n",
        "                                                                args=policy_args,\n",
        "                                                                overwrite_rewards={})"
      ],
      "metadata": {
        "colab": {
          "base_uri": "https://localhost:8080/"
        },
        "id": "6W-_6kIOMB6l",
        "outputId": "0aa78162-0596-4896-f1fb-6918cea09e27"
      },
      "execution_count": 28,
      "outputs": [
        {
          "output_type": "stream",
          "name": "stdout",
          "text": [
            "Generated an episode 0 -- took 2500 steps\n",
            "Generated an episode 25 -- took 199 steps\n",
            "Generated an episode 50 -- took 371 steps\n",
            "Generated an episode 75 -- took 201 steps\n",
            "Generated an episode 100 -- took 297 steps\n",
            "Generated an episode 125 -- took 676 steps\n",
            "Generated an episode 150 -- took 178 steps\n",
            "Generated an episode 175 -- took 262 steps\n",
            "Generated an episode 200 -- took 177 steps\n",
            "Generated an episode 225 -- took 251 steps\n",
            "Generated an episode 250 -- took 274 steps\n",
            "Generated an episode 275 -- took 2454 steps\n",
            "Generated an episode 300 -- took 207 steps\n",
            "Generated an episode 325 -- took 200 steps\n",
            "Generated an episode 350 -- took 285 steps\n",
            "Generated an episode 375 -- took 167 steps\n"
          ]
        }
      ]
    },
    {
      "cell_type": "markdown",
      "source": [
        "MIDDLE OF EVALUATION RUN"
      ],
      "metadata": {
        "id": "W7o66mhENgpa"
      }
    },
    {
      "cell_type": "code",
      "source": [
        "env = MazeEnvSample15x15()\n",
        "run(env, MC15_mid_policy, evaluation_method, stochastic_probability, epsilon)"
      ],
      "metadata": {
        "colab": {
          "base_uri": "https://localhost:8080/",
          "height": 439
        },
        "id": "SeWiHxcFMQds",
        "outputId": "abf60046-ebc7-413e-8a44-0d570c19fff1"
      },
      "execution_count": 34,
      "outputs": [
        {
          "output_type": "display_data",
          "data": {
            "text/plain": [
              "<IPython.core.display.HTML object>"
            ],
            "text/html": [
              "<video alt=\"test\" autoplay \n",
              "                loop controls style=\"height: 400px;\">\n",
              "                <source src=\"data:video/mp4;base64,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\" type=\"video/mp4\" />\n",
              "             </video>"
            ]
          },
          "metadata": {}
        },
        {
          "output_type": "execute_result",
          "data": {
            "text/plain": [
              "157"
            ]
          },
          "metadata": {},
          "execution_count": 34
        }
      ]
    },
    {
      "cell_type": "markdown",
      "source": [
        "END OF EVALUATION RUN"
      ],
      "metadata": {
        "id": "12GsjFEqNgJc"
      }
    },
    {
      "cell_type": "code",
      "source": [
        "env = MazeEnvSample15x15()\n",
        "run(env, MC15_final_policy, evaluation_method, stochastic_probability, epsilon)"
      ],
      "metadata": {
        "colab": {
          "base_uri": "https://localhost:8080/",
          "height": 439
        },
        "id": "Brr84WZnMQ7G",
        "outputId": "f6cf7de4-c317-4eb8-fb46-adcc74a6a5f6"
      },
      "execution_count": null,
      "outputs": [
        {
          "output_type": "display_data",
          "data": {
            "text/plain": [
              "<IPython.core.display.HTML object>"
            ],
            "text/html": [
              "<video alt=\"test\" autoplay \n",
              "                loop controls style=\"height: 400px;\">\n",
              "                <source src=\"data:video/mp4;base64,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\" type=\"video/mp4\" />\n",
              "             </video>"
            ]
          },
          "metadata": {}
        },
        {
          "output_type": "execute_result",
          "data": {
            "text/plain": [
              "127"
            ]
          },
          "metadata": {},
          "execution_count": 13
        }
      ]
    },
    {
      "cell_type": "markdown",
      "source": [
        "Plot of number of steps per episode"
      ],
      "metadata": {
        "id": "25mq5SisNm-_"
      }
    },
    {
      "cell_type": "code",
      "source": [
        "episodes = [i * K for i in range(len(MC15_episode_steps_counts))]\n",
        "plt.plot(episodes, MC15_episode_steps_counts)\n",
        "plt.xlabel(\"Episode number\")\n",
        "plt.ylabel(\"Number of steps\")\n",
        "plt.show()"
      ],
      "metadata": {
        "colab": {
          "base_uri": "https://localhost:8080/",
          "height": 279
        },
        "id": "Kxtu7WRkMW7o",
        "outputId": "f8d00dea-e86c-4fa2-83d6-5feed098318d"
      },
      "execution_count": null,
      "outputs": [
        {
          "output_type": "display_data",
          "data": {
            "text/plain": [
              "<Figure size 432x288 with 1 Axes>"
            ],
            "image/png": "[encoded data removed]"
          },
          "metadata": {
            "needs_background": "light"
          }
        }
      ]
    },
    {
      "cell_type": "markdown",
      "source": [
        "**Q LEARNING**"
      ],
      "metadata": {
        "id": "b6zW_8EUMCSo"
      }
    },
    {
      "cell_type": "code",
      "source": [
        "MAX_STEP = 2500\n",
        "NUM_OF_EPISODES = 300\n",
        "K = 25\n",
        "\n",
        "env = MazeEnvSample15x15()\n",
        "env.reset()\n",
        "\n",
        "algorithm = Algorithm.QLearning\n",
        "evaluation_method = EvaluationMethod.ActionState\n",
        "\n",
        "exploration = True\n",
        "alpha = 0.3\n",
        "gamma = 1.0\n",
        "epsilon = 0.25\n",
        "stochastic_probability = 0.9\n",
        "is_epsilon_decrease = True\n",
        "\n",
        "\n",
        "\n",
        "policy_args = PolicyArgs(\n",
        "    alpha=alpha,\n",
        "    gamma=gamma,\n",
        "    epsilon=epsilon,\n",
        "    stochastic_probability=stochastic_probability,\n",
        "    is_epsilon_decrease=is_epsilon_decrease\n",
        ")\n",
        "\n",
        "QL15_episode_steps_counts, QL15_final_policy, QL15_mid_policy = run_policy(env=env,\n",
        "                                                                algorithm=algorithm,\n",
        "                                                                evaluation_method=evaluation_method,\n",
        "                                                                exploration=exploration,\n",
        "                                                                args=policy_args,\n",
        "                                                                overwrite_rewards={})"
      ],
      "metadata": {
        "colab": {
          "base_uri": "https://localhost:8080/"
        },
        "id": "vb4-FNQanzOe",
        "outputId": "1b62555e-e708-4745-e6fd-050a804ec2ef"
      },
      "execution_count": null,
      "outputs": [
        {
          "output_type": "stream",
          "name": "stdout",
          "text": [
            "Generated an episode 0 -- took 2500 steps\n",
            "Generated an episode 25 -- took 2500 steps\n",
            "Generated an episode 50 -- took 2500 steps\n",
            "Generated an episode 75 -- took 616 steps\n",
            "Generated an episode 100 -- took 262 steps\n",
            "Generated an episode 125 -- took 69 steps\n",
            "Generated an episode 150 -- took 47 steps\n",
            "Generated an episode 175 -- took 43 steps\n",
            "Generated an episode 200 -- took 45 steps\n",
            "Generated an episode 225 -- took 39 steps\n",
            "Generated an episode 250 -- took 597 steps\n",
            "Generated an episode 275 -- took 35 steps\n"
          ]
        }
      ]
    },
    {
      "cell_type": "markdown",
      "source": [
        "MIDDLE OF EVALUATION RUN"
      ],
      "metadata": {
        "id": "8PJRe1nUINud"
      }
    },
    {
      "cell_type": "code",
      "source": [
        "env = MazeEnvSample15x15()\n",
        "run(env, QL15_mid_policy, evaluation_method, stochastic_probability, epsilon)"
      ],
      "metadata": {
        "colab": {
          "base_uri": "https://localhost:8080/",
          "height": 439
        },
        "id": "VX0r7-5-IC4G",
        "outputId": "4564ad31-e55e-408b-bce9-ffa31502a326"
      },
      "execution_count": null,
      "outputs": [
        {
          "output_type": "display_data",
          "data": {
            "text/plain": [
              "<IPython.core.display.HTML object>"
            ],
            "text/html": [
              "<video alt=\"test\" autoplay \n",
              "                loop controls style=\"height: 400px;\">\n",
              "                <source src=\"data:video/mp4;base64,AAAAIGZ0eXBpc29tAAACAGlzb21pc28yYXZjMW1wNDEAAAAIZnJlZQAAQ9VtZGF0AAACrgYF//+q3EXpvebZSLeWLNgg2SPu73gyNjQgLSBjb3JlIDE1MiByMjg1NCBlOWE1OTAzIC0gSC4yNjQvTVBFRy00IEFWQyBjb2RlYyAtIENvcHlsZWZ0IDIwMDMtMjAxNyAtIGh0dHA6Ly93d3cudmlkZW9sYW4ub3JnL3gyNjQuaHRtbCAtIG9wdGlvbnM6IGNhYmFjPTEgcmVmPTMgZGVibG9jaz0xOjA6MCBhbmFseXNlPTB4MzoweDExMyBtZT1oZXggc3VibWU9NyBwc3k9MSBwc3lfcmQ9MS4wMDowLjAwIG1peGVkX3JlZj0xIG1lX3JhbmdlPTE2IGNocm9tYV9tZT0xIHRyZWxsaXM9MSA4eDhkY3Q9MSBjcW09MCBkZWFkem9uZT0yMSwxMSBmYXN0X3Bza2lwPTEgY2hyb21hX3FwX29mZnNldD0tMiB0aHJlYWRzPTMgbG9va2FoZWFkX3RocmVhZHM9MSBzbGljZWRfdGhyZWFkcz0wIG5yPTAgZGVjaW1hdGU9MSBpbnRlcmxhY2VkPTAgYmx1cmF5X2NvbXBhdD0wIGNvbnN0cmFpbmVkX2ludHJhPTAgYmZyYW1lcz0zIGJfcHlyYW1pZD0yIGJfYWRhcHQ9MSBiX2JpYXM9MCBkaXJlY3Q9MSB3ZWlnaHRiPTEgb3Blbl9nb3A9MCB3ZWlnaHRwPTIga2V5aW50PTI1MCBrZXlpbnRfbWluPTI1IHNjZW5lY3V0PTQwIGludHJhX3JlZnJlc2g9MCByY19sb29rYWhlYWQ9NDAgcmM9Y3JmIG1idHJlZT0xIGNyZj0yMy4wIHFjb21wPTAuNjAgcXBtaW49MCBxcG1heD02OSBxcHN0ZXA9NCBpcF9yYXRpbz0xLjQwIGFxPTE6MS4wMACAAAAXYGWIhAD/cCOG5tWkAAJ0Bf1FDxSPTFToaidPDdWRmEub/74uzwDIB1gJi+G/qsTZC+i+EPO7gIUiNW4x4dTHoMUb/dbX/5cK0K8CERMnu1FfNijuOywes15ySYg/Jw6BJlaE6Axbt2IA8aAg8WmAdo8MseV/mDTuizDC2AtyJPYteAQ5HRK51rD79mAzdLx8JRVhy+mv6FlRPVSnMdz/lgBsa8BTBPTdNBmuOGuib1yZka/NQFkYLWyrII3+mhjTJThTMuyVP7ZF6QGf/f3CvwDkWtlt/oosSA2xrvRctp1snoDki1mv8+T/bsmjsuINFS8myAbxIG7zr3zOUDO8HpxgIpgMDlhaiQEys/svwVQWt88f4UESPywQ3WcVOj4fHVXe2CZ5UUeiW2KvAUFj+o7YdqDfD54ZYSvE7ssuwY900P4+gAkVRhGZj/3wstZ16TGvct5EAjK1YeuyxWd1duYSeDxd5h+JjMvLLKO86pq665ttt4la6zy9+CESZ5PP7eujzS8mpVsMjrJjjvHHwnynIDTCwmB86U76uQJGYn/1XBt1P/9ZWKGYam3caNAFfhYq1vQWVcf55P1gnrq5QStZIcTOI3tQQS+5jAe7dVLLZRb9I6icSpAJemfkq2Y7n02yZqapQzD4uZhedd2D+NO0MSZftnjtbalz+nexgEeABsi7tGbyytWfGThOsaVYd9W3u7uZkZ8Y73qkUlDGpXBuECj3R9gSFkeH0cg/79ZW8OQlhKZlthVyz/Yqaaj8NqVtUnZoZWlKhVRqrkjbK38fnOn6w0r06P/p9NZYfNzTGuzm98UfsxU+cZVZ/UwUO9EF7+7rGJdmBtQDzGAq4Hz0Rq6iVU/uXLNzY4bxtN9zzj0bk05A4evUXOcAY8rQ84XaYzRlF3Nwg9/E6N1Eny0jRl3vthsk+tOlRQuDlolhFWTsHB5nG0ZDWXCbqkkTPtZrlPRqAEgfVbeeC1yjnKqCgeqGF37a0vLoukpB6ANS8fvX8SiiqoPUAAAXu91saKx3lJzszge6z+aSk2vkZ/WGvNP7Myauo4loUodY5niM6EXDN+O9kOH0R5ycwTo/83EBUwjYXy5f+2/P1iby/UirPqNBd8/+6NjIROB7FypQgMeiVuGk6XIPVmbiUN56+oiVXyeFF6l+s+E14W7Sg5DAtKzDN5Pk8bvRHH84rKbj0xwvws+z7qOq8BOCRj6w2KI1CAl4skli7ZDZi6wjF40SgyhFLzloP7S9q60VSrZ4MUF7gl3XVqj2OSX9iqO+mV6ZjWrNBte3cKd0Hi3WB21ofNzyZxv9L2cQAo/XWiPVdjOGNIG/tAj5O/iF1VK+kQmXhj4C9s0Or/bAshC0oDfODv3nzU2negjEJ23IgdMrbVXBbGIUQJCAlVjIGKKgGWbddJGQioL5l262hoMfnpEaCsO6CPzQe7UnHDOSFmJWr7fgGgkQpXmbiCikJI4OWnafgCg+Ms8paGlXNct6NjzIl6mDZJOV/+3Kh0VSbdQ1o3dsKQvadzi6e8Y0XCV+PgF+KvwJxd3NxtqSg61KAvKl08Fh9tIqzS7OQUA7LI7VEikNNQmxr2O0TNpREw0Qg0WE/ZnuiKUROAUK7N0KSFNs7xujH4usNpYcX9odb03Y8mgWaBkpPV3aj0GEf3nUHi0gRRmyuaCOtiqqR3Av8UXJ1GoMfTpy7asAlBacmYUhjxBTJOzOZBJl4+nT5VezwBWaxL91Zc6naTFIqjpWpqEK5y5HHMLtPQSjAAm2pAAfzXOV5t3iwVSFGTdv2K9Ei8uC8lR8yv9X6AY1xIoaqov+Uw/cibqbqrHOjtrPJrWXdoVyUHGkEG2MeeFX3Ss+VuxRWbuVmpKfDaEW6jWubIArzkXJRVsnoQrelEuAj2xmH4RlH4NQkkUOJqjqSx4W4l8GfPVYZ4+XvdMNTp/efYQi+/Ww0qxukaMvukN3Xnyvx6dmZg3axxSremN3hTnKwibH0rDdNJunclsRAHtOdYya1LMBLW/cGurljQkcu87OhbOZFmTHIUW8J1xFLGtgPEfT5WjtweMtM/1NfxFraLS8+DeZxZ0V+6vq6RpffM3FFfxoEfAf+K8y2+9Nks3O9Mz7fEF+ybQko7PPEB1RQAAZeCcGMSTopDDv8hrGfG9stZTkujo/t3OWwADyBQcwIdWwp8WOca5/BKelYRwbM86qeZrcLBE9foPrh31nvIr7u0jfBeeZxaUwd21I/qszJ8YjhWkFaig6mqjwJrHAIqtRn002X+I2UMfkidOLQvt18MvWqQY3tLBEa6pau+v/v6rLNyYForzIePrGHchY2kv/H0otvwBFVjmHvaBYZl64UGCdSG6n7Al/87QwzOXbTgyuNDLcZISHqrQiFNQfUYL/VUImgTVpp+URWnH+oY2d8P6gEsPJ1DOiRWMSUBmafOlHtGIuwzeBFXmCAfQW3V8HydDwAulr3/Qe+zr/y3W13TkDii08WWw1pMlvc+8X4f6jm07+VD1Ldkt+Jz3Zh0xq62uss8dhgyqPcEf+w0ZoELCJ3Ftu38zXhGeni34VMMhgWyeSKTVPvXzqEq1zZJYZqLsKJoCBu6aiZAkJF1rVkvOowuz/xMc+uax6FF4lVvv5/49B+AGYTs4f20QXpQCG1GX8qjJPEXHhOAABRqJfOXprELhDNztQgZpTDHs0FOIe85DtfydeK+DQcCmRpQSCvC/PfEEIShEPdRFR8RrmsGqgfuuunJ89vitJ5W/q0TLwKSP68xflx7peCKO65f6kdQMdH0gGJXX8GfYp4/AchO+oSdjfibr1av/fMUhj8M1HAyaWVW2cIxQeU+CC/vTgr6zqOkujAeQrYNDDYbj22xClq+H8zDVBgSCOf1w27Y1lWSSipLyVtXZH2NkrGg/ohLkNo9hyzN2ceq7kyWiXSbLi7LxTDYrXXAD6O3JXgeVh6YhEIE/YehIBcCb/a8cgIFHUCJXlVnqctB/Gm1daJ+F/6I7gnSGgPlqL4TXCui1ZerH3F7OLXM0jgGzJOsq2k1RiDCVWN5WIhjCAk9mDGdX0f7vp8FDiUh2aquhTGGD2qhGhZ9urxfydbznmc+6AkdKHQCTOD4kelTQp9w7x6/yDc2aWmd465jtDn/lqNNSgiHzmAiLR9FkKIONZ6NfZGDKwLoDrAa0U2ekTEkDy3KIRwycvejeiJNKAb+kvvq50XFgGLg8jfZzzX3hx00NvadZBUhA1g2Lp3aiZQ2S/ls+EjvuTG1szH0h0kpbEvvSWTwoF1o38tZgf3XE52FKn+QdjSl88L7nTrs8E5vUIp62XXe/Y/RSVzpG1BhN+JL8NbB78EsJY21RYoHzR2Rc+S1jGm7Hv6I/7qND//7OlEZgCskSmu9cEjQdBS+O9w5ccktxDsdMiO6tga9U8CPYaB+Iy37Cc/sDtKn+aqG5TrCtqASTIUqkoUQLdW6NuaqvAh+vvooZHkylqOM6BuyswRXTe0T4L/hs/TFWGN0nYKiKksA8AjgxyIJkFgVdLLd/ISFC3zeuTUOoX55dM7/7eWsrowvPCMI47JMkoPZHz7jbj8T13uWdrADEpd8MXis8O6bZJOMf8I+ou+ufH2Orhd7lBbTwRvlUX2nkVVuxWdmy2zp+zwCADDSP5/EQIciCfCVSabRv7XCok2uVlKHLd1jUYGfPfl+ciI809ckDI6tIIk6qEbWxtDgGSWwwlIEmxHLzHHJb/Nj/Z+VeHlrnoxUh/YalPWBTm7U/9zN+CD5BZfgbmAqHYHgMDZ33lp81QPF3XRZwD55ulHnUawBB6SMPUHdFIsISkfHQvbtKQOLRjvqVBUZMxNcB1ZsTz7e3zYzazfJbVJVukmnBTM1FkNGuNVOGlTzItoHbMgU6vuxFrVDifhPUjo9aa4AqHzgkLdMhH17Cbw472l5N5rCAkdIXVRC/Ip36rZd2vyqHZzLy38zcX/dIIaf7ooohpisnJVSvpzAJBpGw2dFPeNW7rNReyXa0bAov6WLHfgjGRafs7BtlNpgVvmMuFjraUDRyuuHA58v80O/Q2RVwhP1byvCDgZqK0x5qX+UiaP9qaiIC/d8u4Dtnz6dOicceH0A1g3RnfQxH+GvwDSreYPk+SD5lr/J4UtSiQQDZAvrgIV8tirW+4hGcFOl39rwNxdLTx0sQcv4N9MO0A58fFp1h2rj6X0Glg9PX5YhcmqA6MBXpX8WEoJiHPaiGm2itCpCqnhwv/pTLE1fHfEjiaVrYpcxXL5pI9QjLNEMW8U4XhET5pjcBiIAelvXg/Iy1FAbr5YyF8/MAAses85vs5TNsvmtf47dzmutsJJWFKe2aQROEZm706NeBeFlbQW3/i6SjcPcNGaKsCw6HQIe0uZ+fO9vyj1jg7Gwv5rL7396bCtfhcHzqmBdTw8HawBTXmc+KtzYiEpgCzIMmTGA8wD5/Bmtb/SlkQ+IQMiuIGosQnjOrk0kmLtseFqguW9Ue2RkvuUUpTHefHBMOJEokZy9LNHaty7A+tIcjJvHqyKaGXeBz3xbbQrrCB95vAv8Lr84JbCGKpyLPpWYdkvqL/2qJwXTgY2uddd1xosO9zr2b/4eca/dW1qGnZlxQKSljwVJbcqiiPTXVh8by/wCajSkdoDN+9wkF3iKScY7xTEbqj5U4JLW7SvrDafZQfy72leplIR8cS7V8ahRC8FUUrrblXqdQqiKxh+kF25p6Fb+mbhtWQvF6qgUnaod5Vq1A4NWHyQreHTc85jtzcw49kY08hg0rW310cT0e3S3vuuVTBgavQ++qvvil04R0YJZh3iiw8/O8QYIZ0LHT2MZ7J/wxKeEMc92sne7K/nl6L+QcBitbv1ofH2FlhZjI/u7cUJ1kt0qEy2hI5cmeZ/d6Kp+L+0aGj8Di+q3htSQ8ykP8tetbPftyHNCmSoO2t1Cb0PlxZFm5nzGTnAdHKD3TSBOdmHhky62az7Um6Nf/tVoeaiMSMJ40wR0TcVCe5p7jAPn9SneCV6tjBRWQV8nr7rMDKyvPQWd1zOHZnxZngpEXPeGcGgEGad8Y9khzsdDpF8pkTE2zhhUxcX0HKbzw/Om9X0U9siMkJ4Uav4fOiVYGStP5kQNXuZz+EZTy3SXbaspX21Emn2r6pUCHhJBO9lWw830EDaujCsTo7KIhLBZTW8DO3ZeZdbUnv1GsfXhdrHregny4+WjrIVpYB1Cp7jGu6I5Wo9b1hbaMqXSXtjtYjtr+yhF9sLJaBQj7xca3ZIH6d9Sh+gayFLKykAte14r+Y6GMPG+punvFnOmRhNHGO5yn2oPq5fdqHXeZhEYSrl/j3q8x9kTuAC7gvMZad8VNP+JtaIotxfWYn0N9JtcfGmbolmTVijfiPkZersDQvPnYRMiy7j0zOAnUeVbXYIZnoey4khydWopBteOMkS+fY8HZdAIfcdvEORv0wpVDyUDGTm6PZORbOKfb9Z3QhC4apVp+522OaYieg8cd+WcmCML5ywpiJRSobRUg6mZ0pM+d4iCzEg+tyJOGLsgAq2uTfbVF07A3q83U0TsGbH8SXwUqSI1/D6eNJrVFVtPgR4MRI7SdqeQQ5w2HPOX+Io9c8mBUg6aZDxgPUSelAozaXZPdlHBQALXTWt8ox2Aijhjt0JbmaY5bBD6xWPQhq+qftxH4iNFBickqBEO/DhqN6epZolaLjJnt5j+r5i0WBPnGtV1DNsgxL2USJCErfhTmqf+3+vzj4VOdutRh0cS0z6AAC0ObWqumcWOfMVbvGrF7902p3ydkTsV1/VlFli0/bYDc3onkEvtS+Rqu1rZeiOQCNkfpXE6NmJWfJ3gw9QMmlZL4Md0j6kvc0eDvECZ7A/ri962S1dHeNeCBTSoV7rY4TcvqDNdSXE0n2B/bGtI6/XVfPNzY2pDJXDPgKpH2tVcMsGZDiMSigjCkrR5jDSHhmoOtYT5Ml52tnVvFR332qG3CgiT3Bcp8hhwNlqVlxnH5lc28Nb4JUWIt58iD9Slf1N65uqnN/92Y4XBMDoDo89Mh89WMpdVVjMdMluzE0kHxd9mq9JvQS2qTyEnppmBFD4gxFaiBM6YzhG3S8jhFpAKxa4yHsvDC0+Jgao+4D3gFy2siB/qqqaMjyTRe0ygrW4XN4GCe2OsMdtPs8ffB75xR/HzLBOc42Q7y59dWZ5gQABNhCK3TX1x0bWdHIFe2tYJNbMPREKfTtTmqB0FOitgx9HqJUwY6JJ3Rigniqy4B439v1TWjzfwqWgK10hDlGAxy4ojZGdYfQvJ/nYTLy1Hkpim5pDMMIuaoweaeQct1uOCQsdkj+YEdrziC+YRnKIltD7B3P7eFA7bsNbTubJqaqFtPl4Nwm0mRNRot9BpcZkJ/o7X6c40XQmB3PJbpPdhs6cF7P3JNOABxKCMtVmO8Kf/Ro/5X3SKy/Mhh9jnfw3uoC4Q8kCP4aV1eaBZvuCXaLj3JbsMxhcGTlU4vxV8fbGVE4BDz7jR8X1VefDzP8INxZJTNuivAf6S21Ml0K1PQc3Oo3H8A1EgIV6jAj/ymwp3KrgWw83uN8NkJ8bxSYhn58CmINLf4yIsM35g+RrfJKDH2Fbwl+Z8RZGzYWoEUNYsZSDeCJokDW3xW1lY49KFLLpNrrsedp5hGufgXW2APJB07VBkMqXS8KTl/AvoV4of/vQC+WkcTwZhhiG6gJzHmm19SNsAuxHsPUrSz5ao1y3mgWjnAcWE3YGZPHByn9HvURyTJ4v3FysC7uUBEvmBKRZhUZym3l+9HlmuzTnzl30SVx0POMzDOXGIR1SSZQ8V/fHiTGNycE3605rc64GC48vzu1YLzErZRWJ3kTh6gt+5F9q586kH2SFa863ZaQqUhEBTvEGm7XBUGnUpNQqZZP8gAX6fsDx8Md8tY2RgMR3QD/VltHTCEpdfCA3k6EMGyqgYwQrfaWFoYKGlxOy2iJwMQR7PB9ZW44knUujuUzhOWctRBFSssvluPqWOwiJ0jWOaJrLldVb5UdX7qJlCwqD9QwaGXVb8mkmB972VtIA9WbiXXFcj57l9NBzPWmue5cAH/TyzKhuqHkj1xxVim3qoI3Z3puFObLqncyWK2MaVrLHbIRFB3RybAleUbzp1Ka6V1/6V4l/SLCoWn36HYOAXYken1q9p4plik7PShSvrAYM2e7kR0XygQPuliF9bXbfrLoFRzvxqEGZEnWKxbRgAGok9m4CqogrFU2F83Uv0qryxrTADIrfphTTMseLRrxK1NC2mZy6V69ZM0zLIGbKfw7FO//MvmlVvbz4+GxE+celDHLc19wlNgihyjUjhuvwlhOd1RH4F9ogB7d2Za4IP0ak0pnAAp9Iw3LBnNByDsi4MbJlb000BmOjOJXmQhb6ZaHs5c5trpGukwIW9uQsuVzqoq/6mi/YCUn53RqPWobZmTjk1yDLWKMkKb6LGYtPvBnIstTov8PJflvZ4QOihq7cDSELcAqEapGE12dLSY6O3AH3R7vAB3h3fVE1CF/vZhB8rJJzDyb3DlonmtH/KdvWxKkxgNuRqZjgy8HTdjGooHLl0WGBOmj9/Fal/fZUtUE+R52knU2rifewy9UK6kmX4LW5rZ28M7D2FCO4M7JEIaVfqE3Je3IYr8xdrMvMNJ5QXQ+cb0Syem0M9huBMAAApC+ixwhq+JhcbYuSBbE41JxMmq0yyDKh6nvE3wcF4mZ+SPIrQOFEnU2ENPslSHxpVCjeLlsViS/FcYNGdA+UaohYY4ozMp5VucPHQatZfM50ad/v8VaHKarcJEL/YZBOm6xf/88ggM6/dNMCUlW/qfrO+vlDcFRz/Z+YLlljcnh2wX9FubiW2+V/rytlWiEoG9WTutDatH6IGwnaVBGsQUCeUlx0sA4Jhcj3sxB0Cl5DtA9CxAExps9nEPErsa7p62po70U2/cRUxLt32NfFIuKYdXQVE5Tknjg+j6S8hZP3/BVk7MJkfs2R8gKf+xe+vfxRffhAAAAukGaImxE/zC4en6+vIfIvigT3H5qrNTSt0eG44g9BqjpeevqW7m2i781l3FK7Gx8HjYyX1mlXGfnCphpgnv43BZEhNU4aCwKBcwq0JXDwhi9dvu9on4Hbz8/+36opVlVXrtk4VlX0SSwJiuOJiH6kN+EDjQ4pJk7Ei9pRDN2NFrW/x1WHDMNCCI+KAIoQbfy9ATfIRiUXzcgef/h2yL83DiKaRXHgcCyHWy/ES+/RgAAAwAADVgNbaA8YAAAABkBnkF5Hf/1TMFG1JwgA1GoAAAO+Ax62/G3AAAAo0GaQzwhkymET/KDQ+a6iZQNBVHIP1OIy9kv6M0EywmCMFEwWhYw3NiLdkk75DhEtGBx1n9eIlugb9SV/9Gf1rZugocypPYSmmhv4oO2g3U7AslGTnEOtdbJzksPV87kMxU7iSN8PiDUHQeXOt/sVByKdeSlER3x9bh61xeU7pgtACVqjqJ1ycNwtmhQ77AQS1lJJTsBnPQAAAMAA2icpCBUpIAAAADWQZpmSeEPJlMCJ//z0Vmf6CtljIRihH1qmPSAYdlzwnWnnhWob6wLdTRNLZiV/SNBhu9fEtQAr8ADap7ZlhuQjEP2jAdAKgZ6pLX8yIpGwjtg6viE5gGzbCvgidP8FcKd+HQ8ObGqjAzvh/bFjabxYdbTMeAb6iWUh3ZlezO5ZT8N0UMJn/mAuhXPXv++piRhWBsCpV8fdyrf9Iw1HQJ9sAYyEd6jEQQMRVAPT5mDyfczBpNmyR9ZUYR2ImIQy4hsZwI1i4wC/G14KB1vsSwbCWb82i+F9wAAALBBnoRFETxnILLaOBClqCcznSIcTabERo/DP/ZglY09t9dX//5dW+c/0Ovi1ltdxtsUk9Ass78zZmFslNqfcswW9uTMQeDlbU7O+R9Nv8q0dEPkrkgQ+v+c8lnbYB89Qv2lsBZx6JjA4pGwBJfMdkFlZWJI/CT9a+InoKfMOw1J7Y2QCr1GpXKzybiDgIDRPKtBw4mA+HagwO7uMuZ6VQGk4x6mg3AAs91AAAAaJO8tWwAAAKsBnqVqR38iiQTLMSBnxbqC7g7Zo///+BJrFkXjXcjFiBepr7ShB9Kksu/RHjmZUXKe4iQFlERtkEh4zBtuuqBuWeYnc3FfjNYq4ninvYyD2QFljWaLRTHZFTzvbe5BGPh4r7ThUXN5Lh63E90Ib9E2z5oGOrcZk4DXH+qWWD9jQd8nIn7OpuQakP5LE2VkbEcmVMc5MJ+dPN6lEVigtD0JjyAAAAMAAAMAfMEAAADYQZqnSahBaJlMCJ/0dTX4IaAslkgSBqbKo5B+pxHU9Ey/zmprhw1q+vri/PJovozHdQjG0qGnOvctSPQEvKmQNY2OnStoH9gXbIZZ+FfDdFOxA/ZdxtRknA4B5lVXx9qs3zQjyuwcc9GcY6wFtwAmFCdDhaViPolgFdVUPuYjXycav5UhWTITla4vD1XBM28VCMBc/acbgFIxhVZ0sBjm/Kiybf41sI5Cgwt3NhBS3e70EtNg3fjJN58WnyzMSdnz0uUZqUroAGWAAAADARrEF3ifPIKmkiPTAAAA6UGay0nhClJlMCf/5EAAKN9dFdImaD1kZKgVI55zKqrHILwmw7RHWTl8NAIchnvb1t94s+jCPcqMiThUQ6/RHOPU+5Dzz41wnODipPUHsxO4UHd5IwkfjvH+wnffDQAZu/DKzRfWkPu5ONU52DlMPSt+1u+PvKNG7J4VcGnDP2xGWv19VxTQScInG1fFDXjJACpQn4fiZnP55fA84OwzKjwdF2q1ZH+9v32dudd89AxGH4e+hIC6U9MyFKgfOQ77TkgvZj+BXnGm2vePxRCqIPwYtFqJgzlplJdXAuluaB+eNfDLeoAAABgQAAAAJUGe6UU0TFcd96UAkATdgZ8VkEDDaHlvPLkA1MoAAAMANcGLJQQAAACsAZ8IdEd/IiqJfiXzkjhs9/I3lsv/+pGq7ts1rm6WW1oER+JZcdQ/9amgZXkULDeqiV1UGRfjJBfndzfHRudpTe8WWx+yQot3L3WIjN12i9a/qxDiy+BTm7ZRFLdi20Tl+JrsRwAxAUla4sOVjODZsJT2CUzx+W8HDCS5CwaFZ0MUJp99+NvastMCNsRSLg2e1PoO1B9XVYIuRLAck3enaWHm6AAAAwAAAwAIuQAAAKgBnwpqR38iiQTHAtqShen0At1E//4Emru2zWubpZbWgRH4llx1D/1qaBleRQsN6qJXVQZF+MkF+d3N8dG52lN7xZbH7JCi3cvdYiM3XaMOxXqfH79IFObtlEUt2LbROX4muxHADEBSVriw5WM4Nmw3IBduqOZ33onuDoVnQxQmn33429qy0wI2xFIuDZ7U+g7UH1eJyC5EsByTd6dnO8IAAAMAAAMAz4AAAAAzQZsOSahBaJlMCJ/zIAALmgTQEwCyxOCauZVGGmD1qzQJUaetOwfbENXXAAADAAADAIOAAAAAxkGfLEURLGcgqFkyll5y3rnQ6IeJEOKNtwUxGGf+zyWfgzsBg7X//laba9Nnvt3MRlqZKd2joQAaApr5sRZMTzPx8YcTHv0n4abWFBHQ7AM3fz1+BMkUj7xc1ZTZsYLEvT2HrBPPFKdehhTXsc/NLkYd8dP3gLSPD7SIfeBYezH0UJlm5Ahmz1ncygleuLs/CBDyAvOoHx4zSTGiHcoVx6Ae6+sugNG2BHfqCMfseMskeTwuHgpCFqY55AuEkAAAAwM3MVUS8QAAACMBn01qR38iiQTHAtl6MQgIAlbtuhOtXqfnL2AAAAMAAAMA/wAAAB1Bm1BJqEFsmUwUTE/zIAAAAwAuZ6UVegAAAwALaQAAACUBn29qR38irbUytw6c4f6sYAPhmfOBq4v024DL5wAAAwCROlFbAAAAGkGbcknhClJlMFLE//MgAAADAAADAAADAANmAAAAtAGfkWpHfwApADDpALdRP/6karu2zWubpZbWgRH4llx1D/1qaBleRQsN6qJXVQZF+MkF+d3N8dG52lN7xZbH7JCi3cvdYiM3XaL5GZcFGp9IFObtlEUt2LbROX4muxHADEBSVriw5WM4NmxfRClsHkCQO02GiPgx6Qnywbb7dCs6GKE0++/G3tWWmBG2IMmcSvan0Hag+rqXeIYSwHJN3p2pqlftEGqQikK+GAAAAwA64/lDZwAAABpBm5RJ4Q6JlMFExP/zIAAAAwAAAwAAAwADZgAAAMABn7NqR38AJsVZA0TAB8PaUeFYrSskMO0JziUs0V3of8oRoaPtuome//im+f2+OdWIcBw3G2w+/5W1JeclOlaNhNca3K0DDpAlpzOQLMP34bJ2/yq97I+XuSBD69I0mkT2wD5r2B0MQNgoZFUPSrDPYOsp1KAsXTfrjNtquiRxCCP27pnwhsVlHpSJqeSU5Dq1t/mzPK4TeiCBh1iJe1mJUbqVnOq/L9TY3qzKRFXK2UFtiw5gT3SAAAAIL8+4bMAAAAAZQZu2SeEPJlMFPE/zIAAAAwAAAwAAAwADZwAAAMABn9VqR38AJsVZA0TAB8PaUeFYrSskMO0JziUs0V3of8oRoaPtuome//im+f2+OdWIcBw3G2w+/5W1JeclOlaNhNca3K0DDpAlpzOQLMP34bJ2/yq97I+XuSBD69I0mkT2wD5r2B0MQNgoZFUPSrDPYOsp1KAsXTfrjNtquiRxCCP27pnwhsVlHpSJqeSU5Dq1t/mzPK4TeiCBh1iJe1mJUbqVnOq/L9TY3qzKRFXK2UFtiw5gT3SAAAAIL8+4bMAAAADaQZvYSeEPJlMFPE/zIAANPpHbnmvL9QCBBCD+wp4a79Xza7JHZFUH8WhB+TRKZqw4wQp0D9L0E7u3T34/VuHIWU4+BpI5v/jlsfR2mBE3kAaklXUzJbMKS1Xt4V7rbH30H4q0pR+a6KpEcpS+Ez/7WePLZ2KhDf1GiO44tioceIHkIg4jF3U5bYH5YDsMRyxpNUUDA/BBYym8STWbFw3RmfMinXctxMBAZUlXk6j6fMKvsFfmldKg5nZo9Di8Gsb0XQlzeypDeRIVDFBcim7O0N8AAAMAAAMAScEAAACmAZ/3akd/ACwUZFTp9ALdRP/8SZV3bZrXN0strQIj8Sy46h/61NAyvIoWG9VErqoMi/GSC/O7m+Ojc7Sm94stj9khRbuXusRGbrtF8nrrEOLL4FObtlEUt2LbROX4muxHADEBSVriw5WM4NmvobrryM5nfeie4OhWdDFCafffjb2rLTAjbEUi4NntT6DtQfV1TMLkSwHJN3p2rJz4KbKAAAAHi93xDwAAABlBm/pJ4Q8mUwU8T/MgAAADAAADAAADAANmAAAAqgGeGWpHfwAsQ4IB5VmuCGT/w95iDWH46LZIB1Bu/olPJf/DV49A6r7kIv7JmnZduf5az8o9pHHEQWiL0R9BCYwOSIMJe1bO5axf1AbnOeCzX5tb8uC6COdZ7LkBwBx+ARXQCsdy77Bv77P06Px2P2KfNM9WBLySarGazD1GTYsYCANHBBCwsUiT8WO2E6jIHcKwSgD/7r4+7JHU30HJyL6RGQAADHXQ8G3BAAAAGUGaHEnhDyZTBTxP8yAAAAMAAAMAAAMAA2YAAACwAZ47akd/ACveDVeqdRVwdePS0rmCve1/D3mINYfjotkgHUG7+iU8l/8NXj0DqvuQi/smaTbiY6S66Fi/pc116IGvRH0EJjA5Igwl7Vs7lrF6dTiiWvkelybIfMQF4i9RQXhB1ReAA3mblY7l32Df32fp0fjsfsU+aZuk3o6PVR9pSwuA1ktX780cEELCxSJPxY7YTqMgdwrBKAP/uvj7skdTfQcnIvIMMAAAQUqylZUAAACgQZo9SeEPJlMCJ//zIAEe3yCpSY0UARLpC0LSLw+GnKVb8iTj2mc814fO6Bv1HP/yFHGdbZ0jmVKl1EkoPimp2yy6nSbeoxC4h8YIOcVLD1fO5DUwZQgHW39z8rCg76p7/YqDkZKKQnxHfH1uIN3e/1oYyWAD3VHUTrky8Za5oJkWd/tbmH/TsBs+Zhy7+JQT+CT8NtFhKkZAAAADAAANGQAAAKRBml9J4Q8mUwURPE/zLo/oE9vwZ9xQARfS4XTxBznt9V34sPXF+HgprEWNONaQRQFA/EME8uu5Keah0YmrFgx6I9cOzRx4HBzlm6npDX+Z8mmfqxc0WM96zao7aXZzbUYHfbuepXD4vmXwLCB0bKglcjD8VOnSSSxgxKksIvnZj2Zh7VZ2c0zfBMo3SoKMyt203Bgzi2QmWlQ8voAAAAMAAAMDegAAAKgBnn5qR39YU2G83WbDhlzoG979cVqS1sxWwuWH6rTA6DevRalCz4VRQNJ6k4i+gah8qp+oa89mpulGkDXdv+1Y3P3iAJktTMKi6U6FVe1bY0yRusGdj3FhAEwKYCalSZl7sxdQJBtozliOxpofDCJiRDwJBZ5l0JDanD/E86cKb276vwEKEv095+KLmTiWy4N4eOv/G0wXsq2OYMACDTgAAAMAc0nRk3AAAADNQZpgSeEPJlMCJ//zLV4GiaIoA+U4y/mUUpiumsS/3wNGQGd44CeuGqnzA0x99kJZDcR/jhH4n0hDk3zqQBMjlVb0DnOv//wObAP89u3YvTQCcJRuJJELuLr7Zli3OTpQA21OHSqXxkT2+xDJqKpIlQZ81mKM04/an1NCl7Sxk9f1DeqrLuTqaQ1ByfxchyEEDM/z7aAF+jl+OPOPTER8Nb4cGBnV3wDh0W++5IplfxexxcVAVWuJ4GcS4sgP+hdjSTYRIAAAAwAAAwAMaQAAABhBmoRJ4Q8mUwJ/5EAAAAMAAAMAAAMACpgAAADSQZ6iRRE8V0kI108ZtwWa7684F0L/7UdrlzZN60d2Hy+/hoHsCNGjc1NrwjgVfbnUwf1ouj4bNxyW0UsRw/p49aS1MQct0HdEveXFV008EwLPhTcQr8TNF29E7sTAEVgKCcZeeiXYdzTBk3a2e9/Wl1lS/vWttnE/3aejsZhoO57PV55yc8a1+lVr8Vxml3CYaqac1ejPmHT8HBZjweLnA52jligpgv5S+jzbC7QCP5NJAHsAHf4jbij0dzppnviaeGluUP+gAHe6AAADAAvWXskrAAAAFwGewXRHf06nVRvakCzgAAADAAADAAJGAAAAGAGew2pHf1BYMaWkyFmHAAADAAADAADZgQAAABlBmshJqEFomUwJ/+RAAAADAAADAAADAAqZAAAAHUGe5kURLFdJBwx/8L+ZjvL+AB4UoAAAB2rQhIuBAAAAFwGfBXRHf06nVRvakCzgAAADAAADAAJHAAAAGAGfB2pHf1BYMaWkyFmHAAADAAADAADZgAAAACZBmwpJqEFsmUwUTE/zJn0DYZiQ6wwfn4g7maucyAAAAwAAAwACJgAAABwBnylqR39OrIzFMT4iur4ABW9QAAADAWHQ7ImBAAAArkGbK0nhClJlMCJ/8yKIM45aV5HpoP/RqECe34MeoSGp8Bz+IOc9vqu/Fh64vw8FNYixpxrSCKAoH4hgnl1urddVd7pZDPY9Ee6J/tYR+vVpOIkXXlpkNf5nyaZ+rFzRYz3rNqjtpdnNtRgd9u56lcPi+ZfAsIHRsqCVyMPxU6dJI3+LYU8WNM7MezMParOzmmb4JlG6VBRmVu2m4MJRyrpjg7/9cQAAAwAAAwD5gAAAAKpBm0xJ4Q6JlMCJ//Mjg1/4JNfSPLe7WMgv/Y59FJnhTFnGx6B4GDdQj3piDhqp76ubPtTcsWyaugbXMplvaH+FcokH0YOyYUDDiCf1L8bH94zkOC1A9N3jbYw217x1CVS9F6lT3mzl77nnD3y4+NcZG9nH6xeCepDDPQ1/UzQ+3dCRFfEC+RrBqAcnJy/LDNIUhMyE4a2NgnEEM+UEbUUJ8gAEjOjbfgAEXAAAALFBm21J4Q8mUwIn//Mgv3A2Iww0xDH5/ugCOncVSVTx607icoOYAEZVtzPTjeaaycx8Hicy3SqHioP/FxysNOPVXK0H7HtAqeVvwglfBHBdVXG/TS46WrcaLZTszyxE8pcCPfBt9vtDmi73M0wYpgMpls9hYbLU5vn37qCy0tAIIT+FS47PfVPTATONA7xzE+WA67xX/xMjT7BNa2VCAo6WwJ34Gt7b51AAEN+81igACtkAAACwQZuOSeEPJlMCJ//zIGoAGcMQSR6aD/0ahAnt+DHqEhqfAc/iDnPb6rvxYeuL8PBTWIsaca0gigKB+IYJ5dbq3XVXe6WQz2PRHuqHtYR+vVpOIkXXlpkNf5nyaZ+rFzRYz3rNqjtpdnNtRgd9u56lcPi+ZfAsIHRsqCVyMPxU6dJI3+LYU8WNM7MezMParOzmmb4JlG6VBRmVu2m4MFKdB1j9MvsQ6YAAXx34F2AAQMEAAACqQZuvSeEPJlMCJ//zIINp34JNfSPU0nWMgv/Y59FJnhTFnGx6B4GDdQj3piDhqp76ubPtTcsWyaugbXMplvaH+FcokH0YOyYUDQ5tUOMwI33jOQ4LUD03eNtjDbXvHUJVL0XqVPebOXvuecPfLj41xkb2cfrF4J6kMM9DX9TND7d0JEV8QL5GsGoBycnL8sM0hSEzIThrY2CcUQ03YCpfIqWAAVHzSZ+AARcAAAC6QZvQSeEPJlMCJ//zIDHZ/h/HtJia61HUSH38AHKDUSIUdnwCdMP0mKJqimXT7QrqQDtsu+GuKSDEx4tfNeLXmlx+Zed/gv5zyHcB9lQDQUPGKxFufPcIl4aPvgs2SpkBr9yvAbHFcoiH+ZAYzjFGrTPuWdHgdnFBo/Ua8oow8LpsTDVljPsL2V9BzhJMnc2YX3w4M0jcltAcHdQWeyLhsEi2WZDeiQYH4FJm2oCc9g5AAG+fCGMAAHrAAAAAvkGb8knhDyZTBRE8T/MgBQOOOyg6B/GQgxZiGSCCdn8o1dyAgIRTpWX8y974gWgeDk9dBfkq+q4mrMyDXrb1izhV7S9h+aRliXRovDzIekWYXGM/ew3sx0yD8QvCZQvM9Z2NI7CuRu69LhGEUK9fWkHledcUVulO6kpCzDNsqEqp83LQyvBLv3jOpZPjN19VqQZ6IrVGdXvNc2l5hq/4LCF5jkd7y3Lox65K1fWdEnt6PqrFAAIcAhUXTcAAHrAAAACyAZ4Rakd/GS16TdyokA/Z1orpsDyMNzX8Fvxiqzjgt8fmFMlP+iAjf8I/GlfxouhJLjT5nQz5onoxvTEJihfQZO+BMts2v9B4Sict7yE+H9hlEbWU6N0rszimHBj/uOVVcy/T6mZk6AYBkuXWQUrCEUa0ncOQ2TbANmM5BblW/6nqUH4LYdMITOF8emqYglG+5os9eRe/aSrUiM1pzfjJBC3Jgku33AhXAAADAAFLbuAYMQAAAMFBmhRJ4Q8mUwU8T/MgAAD4LLDNRwQantf8JL5GhMdoasBDZOYXUXvasJM4r+yaP8XNs5De34xaP11cR+O0HRF67q6WeSPXpAydu/fVtj5AZCKj79zKXpqoRD4BoQX2ikH7Q2DyqM9joNOJmZMYwCtHPWO2ljbIRfsQDhREfWtfxMb+MnXmP9ezFBEM5GEgmdWasFyiM8fGLIcRsGf3VIFJCm6qJdDtKtKIsLLLDDXiUIe9LkFvSrDh9t+AAAADALKAAAAAsAGeM2pHfxktek3Yji3wOabFcJv+CyB9UOX1+HPYmmVrXeiAs3qtSzVqJacsYcPPLDchwHC7vnRBJo3cmR5WhCJIWGUW3qVd/I3r6+9fy+afIvsHLqxxDfW0jbEDf42t2a/eEy9yn2YUT+jivwqgW8as9W+x/gMF85YHhawRup5FVa7eUn/reUXq8TW9osXViZhpR9icL2ZcXiLkKu5008hXL5IfFjb0AAADAMj2rA7oAAAAHEGaNknhDyZTBTxP8yAAAAMAAAMDE8orWYAARcEAAAC2AZ5Vakd/GS16TdiOAhwPQGAY/hxWLI+/3qLaD4hnBx5QBZ4lwILhXfValglVqadvnhxALcnb22LTWM5Wi1SKJ2XWNxymPr0Q6AFvVX+3wZP3GZNtvi/jnLX35wLpoSQtrsHcLusrGdMKBhYtBG2aJM/WBg3hmUbIvVJAdmjCHzuwecQ2hKnE+r1WSzKVcEOQ9g6DyGhSpfO64H7YUtlxru90jSmG7qWpOhcb+ygAAAMDSwc8MWAAAAC1QZpYSeEPJlMFPP/kQAAAIZO53He1HjvWOT8jsvebm3Duc95kAy7PxAG+JhxFP9EMJeaOOS7sR8gQZFW9ZXFWeg/443JmTrpj1dkH+jnlwm99SIm7RfqIMK+h4/uCt0r3/RDkjNhPD6SWajDdwGX+NttL4p7PtKpzHbFLdJs3V9FoiCjb+7/LLk65kMLdWwOOKklg98+NsZOer95T8OA9PK07/kB0KWdh4LYPwYZTqXBAAABHwQAAALIBnndqR38ZLXpN2I4B6pFYeQUcpxg/qwSIn//EqLe4I0lkI0ADSu95RWFh4AW9Q5px+QbM6NLC8ZxHHZulX32Z9v/72r9onckovG39hkXSdUEEpXPeyIizC06rrPe6xTuhFcYnm5MpvPDO/ulKUQ6scHKqD211iA26mWGFlJ9v8uSNIp98a2TsHu4i+FSOFztqtJ4vxucxzgK5pP/FIMqqED7o/+3Twz87m4AAAWhKmRvxAAAAqUGafEnhDyZTAn/kQAAAAwAyNdz2sp/VJfnad/sFj/YADhuOiPWmVXOGHosMnNtp+j+6fNZvZPapG+DCntmRRFmKhPwZCgdOul7HPYljP33OJ732rjc/M5S+3vc+sS5P9wfvm4PNuGmzmh7MbfFDQ93DapXyStMVhiU4iYjzmtvH8VTLnsiYpBEGCEaSPcsg2F2lN/mzTjf+W/JubnELq2otMp1sVIAAJGAAAAC+QZ6aRRE8VxXcDzNcCgAEbJWAzBNRDg4Kx7ITRSVBcp///EqMaoKd6jLCGJEgLFyBzTcwbkBicEn19pUupklhyK2447Z+cmp5wq8cB3vGb1kdy+0kVsGAv8B4jp4Ox7pTdeA5IGo27iapgJ+BFaHn/c1DuwfUvsZwCg4jsdSvYoPL+LO/q90/pPKjWii2nJfa9UCXo1rCtso+QDStvpHeMrc8JDFyP83nof0VUJVptz7JHljx+1v9wAAueVu5vQAAAKsBnrl0R38AAAMANUDCTfbVew+rcCkVq7gUV8VSPGwJ5tTzPugXXtu4ohcImO2+RqfK1N8qPPHAuhGEUoKSpA6wdUXWkjzqDzJh8XfARPYAH9ccSt5bDekAUoEP6svfFdnSO5en62xjKsG0gcz94Br+saErNN175/leA+erhQApi62/Jmmi97aDntdgEhI9Vqso5Xz5cGQtgl/fsi2Ofn1wvzFp+Zs1wAAAGpAAAAAZAZ67akd/AAADAABV9zD3cdMmN3nggAAWcQAAAMlBmr1JqEFomUwJ/+RAAAADADI2PxY9F+BE+BAB3dAaSwdLEqleKsJq159HSL5Kh4J5TxmgaKXbmzM4z5wBro2c5ir9XDhWyTIoI8W5om7hxeNG0cgE6lwFSgHQryZ+G+UiAGhJQSNvzOEZicpR6iPBzj2dQgm/dRV+TNzzDT5fg3DSM5JqTTDSfJVyL8YSKhsELqOIJow3/pL1JJlQNoRtlJFcI721IquHwSrWhOdAx/Sfapaf+UvAUKm8i9mbS/g3wbAXPfQACFkAAAAmQZrBSeEKUmUwJ//kQAAAAwACf8gFA3gn9bURfQ/HkzukbsgAAkYAAAAiQZ7/RTRMVxXcDzNcCgAEbIVmjR7J7K1Q1D+/QAAiu5XGdgAAAKEBnx50R38AAAMAAtgBTIG975TmJRWzFbC5YfqtMDoN69FqULPhVFA0nqTiL1reb5ZznN9eezU3SjSBru2EtVtz95ACZLUzKIulPRVXtW2NMkbrBeCK0DLfmMKWWahSZn7szW/h1cclWd5RsoflDASIeBILcmuhWW2E3+d2RNc3t31fgIUEiuR5+IUv3053nIPB/C6yN8iyrY3QI7DdgAAtoQAAABgBnwBqR38AAAMAAq9dYTvDOQgyagAAfcAAAACrQZsCSahBaJlMCX+HAAADAAADAG8qGnzd91E5LwKPJ5+uf3dZRvuh9yLftdQz/9wv8kFSxosfvIg3Nob16UV6025Y1bE1GE1E7zAlxOJ2gWk/nyD53MTxP8/3LgTUmFhuzjHmqQwwvu7RkbFHwblDM50wQlQNrpBxpE6vOn6ciPMsvXjaUonULwYdegriol63u4Gs10BBp7P2/W9qrDPrRjwaDj6klHcgAOOBAAAAsEGbJknhClJlMCX/hwAAAwAAAwAOOe+mkDHA9d/fczGX41GLF9CVsx+v0QSNSzu0KMI/ud3NsgtwkNrKzxd3+NjYSmLJBhHF2b8GQoHYbY4BJeVHEp7w1OvrXs4B6qiYM2TMimpD7zj981rup7nDztF2Y2RTeDA9bZ2URqc4febwK3lejJdZDqDT1MhBRjbxjBvgNOx8JRMx+q68i+yWLAKr2TZ5RFRAHFwlwTecOImAAAAAzkGfREU0TFcV3A8zXAoABGyFAJitGZeX80UyZP/NF198NcrA0CgkWfvdKzxViiIbryiWDv6T0u/6w7ak7ZjIzhczbJ+PaN3mvMjJ6Y1y3joDi3iYoLCjMaGDRyoE7DTCXnsOvVQwZfDXZLxMHztgGHL1jKQIPBp7fI0fMhXvdi6dXaOP5RzqAEGzoHAvy8RxmpgJp4wMq20wU4UAseGhbVD3DBTq6w/h+OmnIDKSBuJF7jBkriyZSthYvGGXRtNzEnDi16fM99HL5T4IAVeRAAAAGgGfY3RHfwAAAwAAAwPqC2dp1MipTTL4ANWBAAAAGgGfZWpHfwAAAwAAAwFmgTGgw9pC0TDE4A+ZAAAAs0GbZ0moQWiZTAl/hwAAAwAAAwAAB6uO9AYzSenIeZYx3K1Zn65/2RHyBCPTUl2ctv7ofJQkEQ0W8kJVWPahOD4x6sTjMimfL53rdUg1m/mmdyYEuJxOCvxfz51xldnGzv3HnL5zwFke4f9CsDQVtaOpyNiaDVXDM10Id1GesJ9Wm+wHREo8MstYHKhwnCUxGuDCeORYAkFRkCvUzs/3gau1m8O9dXIOfiHUIY+T06b4yWfBAAAA8UGbi0nhClJlMC//AAADAHC9NRsMkhORRoAAAAhr8p81iU3SvOusXZrpHazUc2bWmJmDhJYpt/99w2/sXcdPIs3BVoZGpPr88oyq+Vp9l0Yrdz+9l8TuRy4c9XS5mtDfAUgE2Igw2YNeoCzifTu1/wgRjrBI+Kd0o9ULQpKr/rrGxwoLAMCNQiQBbzWRKbri1PZY1RAdIbUVT/gAp8shEkMXuYOOWhwyu4O3GNsJgB3SzdZdC0zSxIWLNxEtdL11Evrnt8Z06//V59lPlDOW84jeJIKXB/WoB4qVXJsfcLACmdWsSUWb+o+TQMv/iWUBz4AAAAAjQZ+pRTRMVxXcDzNcCgAEbIUAAFHxzkxVSvnI0wPO94XGCqoAAACpAZ/IdEd/AAADAAADAABGQbPJtBDF/1V4Pqhy+vw57E0yta70QFm9VqWatRLTadBLP8qZDsWTiM+dEEmjdyZHlaEIkhYeGIgxNg+WIwDwTqd//v+k+RfYOXVjiG+tpG2IG/xtbs1+8Jl7lPswon9HFfhVAt41Z6t9j/AYL5yvFR/MfBU2d/iohmcOQ8ovV4mt7RYurEzDSj7E4Xsy4vEXIVdzpp4CnJStgQAAABgBn8pqR38AAAMAAAMAABkteYYpUoR6BiwAAAA4QZvPSahBaJlMC/8AAAMAAAMAAAMAAZuoWbqlUgb/UJdkbUo/1PZGUkHaD1oT3LsjLNvWiQ77WNAAAAAjQZ/tRREsVxXcDzNcCgAEbIUAAFHxzhsEn6yFgGKzj6TK9x0AAACuAZ4MdEd/AAADAAADAABBicgUHA/BZA+qHL6/DnsTTK1rvRAWb1WpZq1EtNouEs/yZ4OxZOIz50QSaN3JkeVoQiSFh5bpxmzYIDiZa2YGG69RokcOY/s0aBMl5eMRaeJemFj1otstu0e7VAeoAc6BDiMrmw8YuqLZAhLmMQL5ym2kR9cwwX5yicQE/nfUUt0AGYYVfMoyc+VgHUktvMLAO5008wI6V1/YNff+TqCpAAAAFQGeDmpHfwAAAwAAAwAAGQCQryZYcQAAABxBmhNJqEFsmUwK/wAAAwNrDiNaIYAAAAMAACBgAAAAIUGeMUUVLFcV3A8zXAoABGyFAABR8c4a8QRcQTu7/l9VjQAAAK8BnlB0R38AAAMAAAMAADzy3qvoQCtL/W9wHQm7AITXifHpwGHMaGbU3/77mFf1Q1Q5kM/E3kWHqQhop/BMXPKjEpWra9P/9MKwX4yQV53d4IWvv74tN75WDEChaCc2OQuChsld2OOwe4nFhwjll3VLE7oFPDL5Mf5903qZ+UNboQiVMph/Dk8JTO4SebbemqDDfut2Kz+EvKbVB9JmUv2euJoPOkaRoXmp8mne/eI5AAAAEwGeUmpHfwAAAwAAAwAAGQCPxVsAAAAYQZpXSahBbJlMCT8AAAMAAAMAAAMAAARMAAAAHkGedUUVLFcV3A8zXAoABGyFAABR8c4a8QIcgotW4wAAABMBnpR0R38AAAMAAAMAABjAZONCAAAAEwGelmpHfwAAAwAAAwAAGQCPxVsAAACfQZqbSahBbJlMCO8AAAMAAAMAAAMB3Pjqyk4PxoAJvxSu0cajEs8rNw//ev3uBGbPlb/D3q2otk4XDCzFZnmZAMbTj/9d9X3h6Ha8wBV4g3mF/QRXZN0Asvc5n4+mHmAVwBz//W9RcskPYQ+1JWcff6Dv0wj77ZpunArK/9p4R9JQjewLbLS4Fr3+dLOvZmjlLl5/aoo9qCc38qC0areBAAAAJUGeuUUVLFcV3A8zXAoABGyFAABR8c5A8R9wlQNinsXQe2uVKYAAAAATAZ7YdEd/AAADAAADAAAYwGTjQwAAAKUBntpqR38AAAMAAAMAADvgp38NYtJdprO84F//qTl79Q1Q5kM/E3kWHqQhop/BMXPKjEpWra9P/9MKwX4yQV53g5zfXjwdj1YTTqaBSpQ2Sq2rXANkruxx2D3E4sOEcsvQHxHdArym6rbNzumbKjwTTjiESplMP4cnhKZ3CTzbb01QanhEI32fwl5TareAmZT5Z64mg86RpGhdZe2dlR++Tkp2I4AAAAcqbW9vdgAAAGxtdmhkAAAAAAAAAAAAAAAAAAAD6AAAC/sAAQAAAQAAAAAAAAAAAAAAAAEAAAAAAAAAAAAAAAAAAAABAAAAAAAAAAAAAAAAAABAAAAAAAAAAAAAAAAAAAAAAAAAAAAAAAAAAAAAAAAAAgAABlR0cmFrAAAAXHRraGQAAAADAAAAAAAAAAAAAAABAAAAAAAAC/sAAAAAAAAAAAAAAAAAAAAAAAEAAAAAAAAAAAAAAAAAAAABAAAAAAAAAAAAAAAAAABAAAAAAoAAAAKAAAAAAAAkZWR0cwAAABxlbHN0AAAAAAAAAAEAAAv7AAAEAAABAAAAAAXMbWRpYQAAACBtZGhkAAAAAAAAAAAAAAAAAAA8AAAAuABVxAAAAAAALWhkbHIAAAAAAAAAAHZpZGUAAAAAAAAAAAAAAABWaWRlb0hhbmRsZXIAAAAFd21pbmYAAAAUdm1oZAAAAAEAAAAAAAAAAAAAACRkaW5mAAAAHGRyZWYAAAAAAAAAAQAAAAx1cmwgAAAAAQAABTdzdGJsAAAAl3N0c2QAAAAAAAAAAQAAAIdhdmMxAAAAAAAAAAEAAAAAAAAAAAAAAAAAAAAAAoACgABIAAAASAAAAAAAAAABAAAAAAAAAAAAAAAAAAAAAAAAAAAAAAAAAAAAAAAAAAAAGP//AAAAMWF2Y0MBZAAf/+EAGGdkAB+s2UCgFGhAAAADAEAAAA8DxgxlgAEABmjr48siwAAAABhzdHRzAAAAAAAAAAEAAABcAAACAAAAABRzdHNzAAAAAAAAAAEAAAABAAACuGN0dHMAAAAAAAAAVQAAAAEAAAQAAAAAAQAABgAAAAABAAACAAAAAAEAAAQAAAAAAQAACAAAAAACAAACAAAAAAEAAAQAAAAAAQAACgAAAAABAAAEAAAAAAEAAAAAAAAAAQAAAgAAAAABAAAIAAAAAAIAAAIAAAAAAQAABgAAAAABAAACAAAAAAEAAAYAAAAAAQAAAgAAAAABAAAGAAAAAAEAAAIAAAAAAQAABgAAAAABAAACAAAAAAEAAAYAAAAAAQAAAgAAAAABAAAGAAAAAAEAAAIAAAAAAQAABgAAAAABAAACAAAAAAEAAAQAAAAAAQAABgAAAAABAAACAAAAAAEAAAQAAAAAAQAACgAAAAABAAAEAAAAAAEAAAAAAAAAAQAAAgAAAAABAAAKAAAAAAEAAAQAAAAAAQAAAAAAAAABAAACAAAAAAEAAAYAAAAAAQAAAgAAAAAGAAAEAAAAAAEAAAYAAAAAAQAAAgAAAAABAAAGAAAAAAEAAAIAAAAAAQAABgAAAAABAAACAAAAAAEAAAYAAAAAAQAAAgAAAAABAAAKAAAAAAEAAAQAAAAAAQAAAAAAAAABAAACAAAAAAEAAAQAAAAAAQAACgAAAAABAAAEAAAAAAEAAAAAAAAAAQAAAgAAAAABAAAEAAAAAAEAAAoAAAAAAQAABAAAAAABAAAAAAAAAAEAAAIAAAAAAQAABAAAAAABAAAKAAAAAAEAAAQAAAAAAQAAAAAAAAABAAACAAAAAAEAAAoAAAAAAQAABAAAAAABAAAAAAAAAAEAAAIAAAAAAQAACgAAAAABAAAEAAAAAAEAAAAAAAAAAQAAAgAAAAABAAAKAAAAAAEAAAQAAAAAAQAAAAAAAAABAAACAAAAAAEAAAoAAAAAAQAABAAAAAABAAAAAAAAAAEAAAIAAAAAHHN0c2MAAAAAAAAAAQAAAAEAAABcAAAAAQAAAYRzdHN6AAAAAAAAAAAAAABcAAAaFgAAAL4AAAAdAAAApwAAANoAAAC0AAAArwAAANwAAADtAAAAKQAAALAAAACsAAAANwAAAMoAAAAnAAAAIQAAACkAAAAeAAAAuAAAAB4AAADEAAAAHQAAAMQAAADeAAAAqgAAAB0AAACuAAAAHQAAALQAAACkAAAAqAAAAKwAAADRAAAAHAAAANYAAAAbAAAAHAAAAB0AAAAhAAAAGwAAABwAAAAqAAAAIAAAALIAAACuAAAAtQAAALQAAACuAAAAvgAAAMIAAAC2AAAAxQAAALQAAAAgAAAAugAAALkAAAC2AAAArQAAAMIAAACvAAAAHQAAAM0AAAAqAAAAJgAAAKUAAAAcAAAArwAAALQAAADSAAAAHgAAAB4AAAC3AAAA9QAAACcAAACtAAAAHAAAADwAAAAnAAAAsgAAABkAAAAgAAAAJQAAALMAAAAXAAAAHAAAACIAAAAXAAAAFwAAAKMAAAApAAAAFwAAAKkAAAAUc3RjbwAAAAAAAAABAAAAMAAAAGJ1ZHRhAAAAWm1ldGEAAAAAAAAAIWhkbHIAAAAAAAAAAG1kaXJhcHBsAAAAAAAAAAAAAAAALWlsc3QAAAAlqXRvbwAAAB1kYXRhAAAAAQAAAABMYXZmNTcuODMuMTAw\" type=\"video/mp4\" />\n",
              "             </video>"
            ]
          },
          "metadata": {}
        },
        {
          "output_type": "execute_result",
          "data": {
            "text/plain": [
              "91"
            ]
          },
          "metadata": {},
          "execution_count": 13
        }
      ]
    },
    {
      "cell_type": "markdown",
      "source": [
        "END OF EVALUATION RUN"
      ],
      "metadata": {
        "id": "aC077E97Ia5T"
      }
    },
    {
      "cell_type": "code",
      "source": [
        "env = MazeEnvSample15x15()\n",
        "run(env, QL15_final_policy, evaluation_method, stochastic_probability, epsilon)"
      ],
      "metadata": {
        "colab": {
          "base_uri": "https://localhost:8080/",
          "height": 439
        },
        "id": "GP2Rg2Ozv2Id",
        "outputId": "70c5ac9e-2e88-499c-b867-2b5be2810014"
      },
      "execution_count": null,
      "outputs": [
        {
          "output_type": "display_data",
          "data": {
            "text/plain": [
              "<IPython.core.display.HTML object>"
            ],
            "text/html": [
              "<video alt=\"test\" autoplay \n",
              "                loop controls style=\"height: 400px;\">\n",
              "                <source src=\"data:video/mp4;base64,AAAAIGZ0eXBpc29tAAACAGlzb21pc28yYXZjMW1wNDEAAAAIZnJlZQAAMlhtZGF0AAACrgYF//+q3EXpvebZSLeWLNgg2SPu73gyNjQgLSBjb3JlIDE1MiByMjg1NCBlOWE1OTAzIC0gSC4yNjQvTVBFRy00IEFWQyBjb2RlYyAtIENvcHlsZWZ0IDIwMDMtMjAxNyAtIGh0dHA6Ly93d3cudmlkZW9sYW4ub3JnL3gyNjQuaHRtbCAtIG9wdGlvbnM6IGNhYmFjPTEgcmVmPTMgZGVibG9jaz0xOjA6MCBhbmFseXNlPTB4MzoweDExMyBtZT1oZXggc3VibWU9NyBwc3k9MSBwc3lfcmQ9MS4wMDowLjAwIG1peGVkX3JlZj0xIG1lX3JhbmdlPTE2IGNocm9tYV9tZT0xIHRyZWxsaXM9MSA4eDhkY3Q9MSBjcW09MCBkZWFkem9uZT0yMSwxMSBmYXN0X3Bza2lwPTEgY2hyb21hX3FwX29mZnNldD0tMiB0aHJlYWRzPTMgbG9va2FoZWFkX3RocmVhZHM9MSBzbGljZWRfdGhyZWFkcz0wIG5yPTAgZGVjaW1hdGU9MSBpbnRlcmxhY2VkPTAgYmx1cmF5X2NvbXBhdD0wIGNvbnN0cmFpbmVkX2ludHJhPTAgYmZyYW1lcz0zIGJfcHlyYW1pZD0yIGJfYWRhcHQ9MSBiX2JpYXM9MCBkaXJlY3Q9MSB3ZWlnaHRiPTEgb3Blbl9nb3A9MCB3ZWlnaHRwPTIga2V5aW50PTI1MCBrZXlpbnRfbWluPTI1IHNjZW5lY3V0PTQwIGludHJhX3JlZnJlc2g9MCByY19sb29rYWhlYWQ9NDAgcmM9Y3JmIG1idHJlZT0xIGNyZj0yMy4wIHFjb21wPTAuNjAgcXBtaW49MCBxcG1heD02OSBxcHN0ZXA9NCBpcF9yYXRpbz0xLjQwIGFxPTE6MS4wMACAAAAWJGWIhAD/cCOG5tWkAAJ0Bf1FDxSPTFToaidPDdWRmEub/74uzwDIB1gJi+G/qsTZC+i+EPO7gIUiNW4x4dTH1Ta//Lkui5NAQiJk92or5sUd2tXxSFPfpDiD8nDoEmVoToJiId3V8IKX58LTAP7ekVHlf5gzBXjm/bVpGXnuzEpQ4zdJX4JvjpCXTGkTHT9H/VNzaKLr1SoEgwZwjnmFULUahx6KuS1NMCAPXkzZwkQyB0FUFM9E4BWX9w2XRsAiNVYZ0+06l8DgJFdk1davOkzEHI/6Dc+YN88Q7srDwBAYKljpc+emy4MEhOB5hgqLrfexZmbM7Wsln9VNndoxbS4HpDT5sTXuR/u/0MS5rBQxb+v7tkCt65F/MNNRbWiAjBrDbhXWoD+gP0Sq2dYyhdTZgyrv4BZatdK9djUEwIinLDjgCCZjKHWrjFcMjyJQcqgKmd+ziIyqXsyJcpM1hspTE/GVpGp1N/6ysUNi01u40akNIv/9aILag48C5mp31prM+UYdBQdxomL7J/pDM/jsQoZNaG6ElEUcXnNTgtlY39SU1mFgvYhpr2vlDK3VN6obalI3KsaKyt38neHUzaF73gIEKR35Zqz4n2fnaiCoWYd32pXMVkFL4AcpyuLgC0zjbYSbz3iMjQxsoPFxX6tu6yunkDCk724eQC1QYXsIfc8bbWHEXdZouuLtrsqxf2Er4qSBbnNzayNEmGXCFXL4M8DShVvFZms9PK3oqkX9yklFV4MdaJb6yS3apXml+pYq+YW8cpxXoW3SvJeg8jp9hl3/8JnXQ3j26l5jhAuhC8gcO3YtpF5sqo4EtTeftR0R5t/BlvWGZ8xOqfXWY3Y2cdg5dliMCDAnrjwH30W3U+XtXMWjX+ZkPQJun9EKkK+R98t+RPTK71RpaShmxcZ0DwvgAI2ghEAnUt3gtw/awbehU5W7Of1FOK/A0C9KVYPySEyt4EiCM7vknvDbdmkBDBUHYRfU/cozBuFtQxJg2TmLZn0qbWExDjUZHFpLoF2nBNBbYhnpl6VFFXRbWI/PR0LolV8nhRtRL62hRZCuBs1h9kjpaCgH6TbOBiwo9tiMvG148wWy4bbcgX5lIovkZxjS7LGDmE+vFjqBteIAA4pDfxTlQxiEl5y0H8abV1oqzGzIp4vHUfvwcOamXuM6X39rS9qQQTlvSAy0fPyR6DE+vFOJR6wuepa9Fx+UX/0B7hUgb+zgdzBt8Rt7mc9+4QVYpZ1nElLxC+dWk6KiQAQw6GAR8GuvM5EFFOmej1Na47P+FP0qwz7hxmncOX3RQZHpm9jqVypIqYi5IXey+/wgigcf2wefbRpZiVnGwHtB9cLPd6Rib2rdLBWIceQL+3CAKKNs2C6DnGlW9YRHjEXKxkd+GYN2AwqluzQqe7YJXV6JExFY3FgFxpudmHeKeH+4n/fnx+2PYeZIT5CAsw/BuDPY2DxkWFa/YHdjD9hP5Md1oY/L6aMMr5h3GS7bj9ANT/DqJ7ZYcX9odb03Yzf6tc/kAds8XRCEQN78CB71K4Kzmum4U0UTyyxH8UXJ1GoMfW6HzVbPVEX3BL9YFsjC/P9dM/tbwGrVpVGtXedYBn+gur/fpiVS/OG7K4Z+0ljmF2noJTZJw2VdFUooih1pI9Xpe5Wx+2/706seBb6i5F5BjBfROlAYq9gtEsRyKchZb6UjPIs78der7olQs0ctW7XH0VuOO0Rce5Ld2AC6YwWjtSkXQAakJTGDiWPF26hyarseRlzhMNJ6fUAV3l4Jso3jDECqTqr0+baMM0E51e+MQdrCffBaCtb6fFfPoE53T/PLzrF0K29/Q9txudFNxqnN8MnSPOIaztx98hrJwd/yIpz34B71IhZN2l7gd7070uhYPeUfivuNKEqIAFOXL/hos4uMyT0B5PQY3h3lD6IUCIWe3HWAXZ4YaXcZhImjeMY9wI++f8dP7yWW5OU8XZl68vxUPmoZTiSWnp+x7YCJTAADtqmMJ/8MixncuxFSbZg5G+fSQqpEGKukUsyhJA3MCHVr6tr9tk71Sx0Qt1OUCHySB9U2a49rqGCikj9Kpw7v2xc6nF8zi0pg8QyAHkzBt8Yyf36+AZ7mqqc1RKyOTr+M+mmy/xGy38JKTMStKBfMRulmNWL50tla6pav/kn3UVD8Jadr/DH7WMy5CMGyp+QHjJslgqE/4RPewmEW4TXH2hwPlyqY0XlYdCyD478MS9XE9yk2q4Qxv5AdqFZXLlWY+8k15iOqBJ9IjSu+GcGrdNB1MA2dpRoekO9YxnLLCPYRyLltSStXOVPde2jbEA1YcSjq7XHYiIOZpCuLyvQwz4SPQ0aiDP/8/5S/D/Uc2nfyoe2ZYFOcTtVwmQ4E5M2uUw+Uh1ibWx47Dd4fBifQkqX7n+cALu2Zpv8eVM8Mqqvu/XzuwqysWjke4AQ7VjSSJqVCeb84+x3FbUcz6roCsHQkcf82ICaAGmyyzIBmJZ9Pa48RPGZQNOhATVaYVCHpn4f9Nz6S35Gp7mcQsP5rZIoFMjSgkCuF+f25HzkDTdyuyZYLIVCnnI57aISslvFq7lrnjSWPU67MotJYH7xYpz3zEnY33W4+KoYF91wzgwDl6SxJECdFPv+FRb72YLbAVy4yU0+Gd9tK9uFvmIGm04ejN/uAkP+DPaWCVdPm8RdvJtqpqHH6EQNL/EhIlXUg1nqJUA5aS+YT6gugmNJm6ohMsoKvonCfm27K3PuQ9nT4UwyI7auFGTRexUpsL1jOIbRtB8i2k5eAPw3EoxsrahCjMQDqjMOqOV0oKy6qSCsSNgr5ZpL+nrdx3IWtLwPWov7j0YbB6c1bX85mueSM0EY29kJ2V4cdgn2R1QBdbV4T2qhGhZ9urjxtPrlyL1JKqWGF+Ds/8pB95HPBGK4UJsMez10nAh+RYXDoz1ry9BfuXA9Efj5202N1olW0NJ65p9BeZebFuqoYolbQvnoGADv5MVEMPKtdZgLewlQYJJzI35RRpcCAtcDB/V2uz+OWANwW/dPsogFvjs9ayldsElwPg2mpJS2JfeksnhQMOw5y1k/Y4bYyNEqf4ysalZOIPB1V1vBOcewXj45C7368zAGmVKY8YYyI/05KrdV2/D0Yv4dnuk4zM3DqPYtYxpux7+iP+7CkrE1x8PpJH0KHmPlXz7oE5Rhv9scu/D1oqOdaYVGFoScEQEnTCcBpC2Y6DTvDZX1nBbH31anGgdfVUsZUjYmKJBRwaRjGB3GQ7kwMjyZS1/6z1uUlb9NsNGlzRndIV8fvt+XLHYmZOcT+XwHLezgsO73HrlbDVCRkyJrrZTtfKR6OfrVCR275zSyzjA6/lv2auBAmtuKnmXwx+naO0hViartIH2FcZEYG74eTfTF4dXwK3cnNWaxqCsBfc1DI3k0hlOkmywqA0hdejutjxX3IRKmW6hj9Mz3+/fh5Tsc5mYZpqPL5VZNDf84G4LDazpVNvMqQwSnuW72b28tU0aSL4aS6xRhsjx9RBy4+NaWjEbcJa2NiIzROVUsHYMjPBxoKKVRUn3usQUjVVcypton8QS2hI5JVWPy11lfAyazrH82LUL4uEDUAcFPbmWAYrKZ7X9U5vLLjw9yzmRGhaDLEEXzRllRgl7zutqbxeN6YU9nOn2ieHX6Y0mriFcfCXMGK6Ci4wVHQw1W/W9peDO+ujiIorNZ3tpA6TrM3ffDjwKfGZpBq6h4XJ5SjzdmaGJpeDAmSqV9bt106iENnRT3jVu6zj82CNgomSuCed+76XvM91m5PMq5oJ1+oo6cRcG+3UJcDny/zQ79Dcyu4TB715XhChIjpttMuS/yuAZwvqGqAS7m5/XLKl/Tp0Tjjw+hdDGD/5avZJ7wSHYwWDfJ8kHzLX9OQq1fa2sBywq5a3e378pSjNUEXNv7ZQTY/J9bke1BEuMR+03ACxLzeWhbluMdUV+BKshKcrckwYvFxnJYevMACD8gPVvyRass4Dx9ONGui5vSLDGkdWPRS7J3uU1lw/V6p2SeAB6bg/tka/6DwAANHawPuL1x6rn0y9Q/gUkcClA+/9rB9b934lqGyqJdw9GfCVb41eOQAeM0bsh5I+vJK12N/SMfXFzsbg34MqJ6V1qVirgkXzlxLEaMhXzikAndPvIhABXM9xHjnnh4G/AnWm5sEoBF/mDA/5hii2jj8gLhIfuuvANZzhMCiuvIyz+uiZDYCt1LdWFZEOX27L+52L1+IgZw8U9A1k1zinW0Jg5vzUJpUQu22UPP8Veapg/eWbFB2cU4Sp4TvcB1xiIE8Z/IKau9NG72iV1X/7xBISr/nUIy+2cbAmO5Rilig4tafzlgM/OeHIRUymGkrMqfh5RaZxueuOPaJC9YYndGD/bSnhOM9VP0V0xmkLaxzszU/VuCYLW3fmdxCcvYFgBstbaNi6r7Cd99GCUKhNiT08dn7JcuPsZSoPD8O9oDvf7LoWBffQSYrdit7DRCHBIWbkPhZDkuMUf+pPgY97DIw42NaL0fM+ph5wCGFjS+nRf1NsAatY5i4dD7FjjPjEH58spHRf9mINvMD8yx0XayXe2HNCIfRNTrzgr7DQsWyZ1I/UlcWan3JLdrdpzQpkqDus9rB51yQknmZvUnvGQv2QZlKJiGbK8gNeZiYMAUydtXkHGEMCBWS5Agrl9MEdFLtY9J9aMjLMoDQp2rawvMVhKuhAliwa0ZrdVSeRj3gpJUQwysJbMr1cw5lhpB1N7HQ6Re67DGGHPIoy/BMIqS5kkD2OOmxtv0C5j5Pxx+LzsejPgW2Ky/+ZEk9+W9Nu2QogjhYbUWUX5evC0R1Luf1caWeXlEDaujH6DAM+72AfZTIgxOe21kyA+SQwSGrl98Yx8WiwQi9hxkBU/LryVyf1F3ZGmbNg+LDZQGC2huK7ecPy6uPzbJGmmUa/t8jaMXauC21ouE34XnrmzbYbokZkTdnCJpgmw8Kzm66o+RCMnBTc/zCoLNQoUnVZn5ANKdQMFW8RROd44yd+1sFuomTqaX9H4CnfhsvH3JJGztXzmcpmVD1wma7yp7IHOPRrHlMPr1XYkPMTSMSPzkOCHRXiWaoUpl2R3SJPcILW1gkk9cMGRy0rvWm+oRroI5vW7r/kGkjJ+md4CGCsxVE3lOqH5zgQgXC8cM0FeSZsqQ94pRRapZS5xqzZSOjK0ZSkIsY0+AzPGddQnFXnx/RQGiG7Q15PEvXQNc4obasU8wNzMrwKhY1q+/cKL2T15MfdfoZqYwUH/gHd+FuCLsugJ1HZjdxVD0ba7B5d12JBxHhAE+MqqFDd3I/sdTb2nFKr9wVmHQA4Q7NmXAXyZQgBE4hnZyoprBC6U7l5OrDo1S8S/2Vd+9R6EHgnGsiou1O0yCArxHsjFg1QVwpKlCvUCVHySmTFKc60Xw49l4AAFvlGPh59hgBiG3kXNKDy7mEBet02aWsxke8mf6Eas1SCii+SSR+6pN5adrBn+cPRKazb55tCD+8VsK37qAalgunJDAGtumRQWRgXD5s+Pc8CFoxoUKWLnOWvJfCBJeaT7A/tjXUiltVB1K6l7voL14Ft3EYVRhUQ3aZH5VKWBt5tSY5RmxAcHmiuy6A4h/97+aBZdYM8fV0URk9vNIk+H//jhLRqwGuZQ011f6FHmq/z7LTPitFT96E9FLmtOp9Nx1w/pggwf8FX6nfz5mG/7Iahqgiashf/7dq2/XVjwKmEE8QbGsLvPa0xYVfdEWcQfi476RImI5TETjCVYvvb2usv0hDvSkT2/cCZWk0wgabG0awc8zqBgSw5GckVFt+bZIIAAfvhtNwY5dQ24BcjegnnlM8VrPuAbWpVVaQqJFKK68R0knHb0jbpkSYXjeSRVMV5q1RhmXn0ho6HMQffLQHv3dc+XwrNYNK2DWj7n7DS7z6cs3ZMuy5+XpPEI+Cr5Hjkhjq/2XJvnywyo7mCgUa0KUPkbBc9ODiSi3PUEV4fiKCVE/jJlKjCT1TwPE3nXqfT2KKIfW48eTqknRsHLY9PVQAUPZuykewuhfpo4lyaGfKDi/rDmAron0J9IKEQPB32udqC0DrpOrwaBZwiLj3JS0NxFaFupNkdgKZQiTYfxNC3oeid99joDwJinRYy3bbb/FliZBPmNHI8JtsPGCet3gXqOLlU+E6NFEiF6bI7EAj4oMsCi0PdJgzJjwm8PQwkWmYxlw1L2ep5ZKKNjZS6Lgr8x0IlKA66Cznjip7vN495NfAY0kw1ZGDSgqpXs87VDVd/GniC7c7YlhsszKNcoWEldz1a+ZUGJEoRL+8xibY/ttHLJ3w0YRVFhr6BzHmp1xYq4AcSTghZJgQdZOEGQ+5CqLwD7JW8nIms99396e8Qn329ECeSVyuA4A54KaWbu8Gdb5ZtPI3rNHB8Da0lVlLgf1jqpIaIz4eyKieBDUet3vEWkNyhOu5+JL3vx64vOdavtXnfmdEcJcYSpe00Vd7LI9ivm1Ns2hqBRoJFCn+E9an/9TbRSHpo8O2bLunZ4CfuCRQcQbGwObtKB8OXh4VNcMk7lxionm+VEFcTsvfNurQtYwQGDDCijlOWVZbugeinC0JY69lr9la+lljOqd8lnVs03mgyc1nv8gFbH6kfwB2dcyRMWRHsJrZElFMO2AMxfiXXFcj5Hfrq/84enrhoKxACW35CAwMmeHSGODlOfijC5m2APSHHZuhZtLFbGNK1ljtkIiYGzgsaZxgUQGkPG08EIeNLyuVbUAAL9UGmJtfAC336+nVBOU/G/Cbkma/BqP9lBhCPlyNU8TnT825OrQjvGWZgn5/6rJ1oAAcJ+HSoUFIfLz29+UD0oOKTrWXld+LTAJYmA7cxr0YxdvlUV3rTlfAqwidLuwforXYrnKsYFy//e4hP2wKlNy2bhMpXWeeRxoZaZzoiV5E2PZgIRwftlTXYaWOOLD1bw2JVLPUXBjZIukjpicTW/K87pTl3c0IiTQ5CDiLx2JgQt7chZcrnt4s/qaKGIC9NkvZz5Vw2Zk45NcTHSTMPvuCBCCRO7Oh9AgwE6P51ZKdatodoHljEesHiVQjVI1RZhisTsoEgFzWOomuLXDdU2gDQbIVlY4xweMOy/xyQIq9KworHD8iVJjCbLbEHK9ZwdN2MaigcuXRhjWky3yKAg+72GHyIPfWVMNX9vr3vYZmqEVSTVMF0fFs7ahjlMWy+a08+dcl5Pha8khEtajNNiLutQKogyVAa3DJsp/FZuwUvuzQiPT/mXwOqcQzVEA9WBl1RtsAdKRQcvuKELlIaxDEz3eazTprXq6m592f6GAWWXMydkibZzVo4KXW0bnCXd7LvLGK6WdRI94ZXrut/DceY1LLstH78ADAuobggp5tFJGnzqT1rcVPvIWQ+QHJbR3059K79eRaKo4cFLyIP6Za8Qt20KR3s+LJm6uHlFNwuxHB6BrK9u4B+VJZ8mVWB3m7J9iYcYvJOl3gh4wRG2+xfaEPhFoIx50CbxPm5lTWqBv7OVc976fKCEah5tyR0wEFKCq8VV40R0CtmwlTeVuSS2i8OKeTop9nxyAEmBYLz+yD/8EAAACxQZohbET/MLh6fr68h8i+KBPcfmqs1NK3R4bjiD0GqOl56+pbubaLvzWXcUrsbHweNjJfWaVcZ+cKmGmCe/jcFkSE1ThoLBpUApJv18h2ublg2EfZMUtHukWdztky1xNn3dddAH7Ebm+ruVjNQj8T8ImagAdDR/KMGtZKAt9NhxAGIMjJ9H+DeaSrUtHz4iN7xjhVjAP9KCz/9zy9c6kUrThAxa0iQbiwAAADAAADADFgAAAAn0GaQjwhkymET/BzOd8xIE9z6wExAES4mER0RJ7Uqg78CFA5PNiO7DS3vN2XRWH62AC55EyeEsftiJs9xAKS7vgIQdGNYquj+1qGYw2KutMCSoEK7i3KdZNLKrG866OeSY+nVh2PGaEYPEmk0KFDi/5bmsdLVs6qGRoeiUkjWW/PsEH1Iwc+cizZ+Ck1tiIYtZHLqin/wAAAAwAAAwAHpQAAAMlBmmNJ4Q8mUwIn/+7tJcGAlDYdoRAcbhXpmK0GLz/4B5opuKZf10jGoFDC6i8vMxHkbhafaLVjFJ6p5sSBNgsIj4dfavK67YxuNUYL0H8XWgzqKjCVw5uhCLC97kRHxwzEoZCr/8nP+nXQrYuUU7+3AOAl+EzX+me2p+D3wk/H6C5/vpVIRPNGjR+BhH1tQuAwkY6aLGUOwvPvgPAP7RiZRN+NTVySaPp8QaJ23c0eeaFboI88+wdCMLhKPusWqypUL0AAAAMAY0AAAAC1QZqESeEPJlMCJ//3wVCdGANW8unggW5qIZzgDlBqJEKOz4BOmH6TFE1RTLp9oV1IB22XfDXFJHF244b/nVa80uPzLzv8F/OeQ7gPsqAaCh4xWItz57hEvDR98FmyVMgNfuZhZnvEcVyiIf5kBjOMUatM+5Z0eB2cUGj9RryijJmuuhsNzWM+wvZX0HOEkydzZhffDgzSNyW0Bwd1BZ7IuGwSLZZkN6JBgfgWvYAAAAMAAAMCpwAAAKRBmqVJ4Q8mUwIn//e4znJAGrdBAEuIUgb5hj1kGyUoBrmKuMquaReHw05SrfkSce0znmvD53QN+o5/+Qo4zrbOkcypOvEslB8q1O2WXU6Tb1GIXEPjBBzipYer53IZcUVzUVJXHaLSQejPPysKDvqnv9ioORQxPyL2cWVUR2jrdjFHjpYAPdUdROuTVRlrbKFrXSO7TCklOwGfDwAAAwAAAwAS8QAAAK9BmslJ4Q8mUwJ/5EADc2OL5sYIKGTMACP2TgA0lgl7SzjgLM3EjdImlrEuEz/Qi/Y/Q2CSp3d4cs5XufP4HNcL9TJvIdA6A7kRuYX0olbaXy1hXIwN58H2byrjXIBxSvWVXRRe9YKEgHa+2CewkQYyfvPZNYZSul2GelGnNxmyaohjtPA9zz88GW1kyXedZwKDXE0uVigsteLJ52gPtcFcXG3/Uv2+AAADAAADAAbNAAAAxkGe50URPFcDNBvRFXIz6GxusCczvMvwR4sE3WN0gUCI00hVmP7L0R+XokxbOI13uhgzuzz3H28hUw7oUGdJxmNSoNlnqUPd496XY0MOTgV2aqbK7FEYUGWpg3m5DPLIUUHpAWBa4EZcxYy3FqzXCxOq32TgjjiNiZ7CDzeLiIO1gS+WgO62s086sf+7iPORomrD94RVsijfJLvONJR3nzTj3/uFTwdOXKCYjWSom82lZwwpthsKmBgAAAaK8PjdBAGsxRV/gQAAABwBnwZ0R38DqBHbSutRBHYRhAAAAwAif5iAAK2AAAAAHAGfCGpHfwNov/iSCGT4EvEEAAADAE5BcqQAh4AAAACfQZsKSahBaJlMCf/kQAMPocyuvQHA48RUAR4pkQcn1YZIOIwYdWnHtNQlmVYQPhv1Hv/ozG8620JnH+2BoJJQbz9TTQ2Gazj0iDJnbqs7Gpt3bpPQbYpMUinqxZnnh70ZI8jGO3/iOspnp7tXJv1Samgz17vrvSb5YeGOUE5lsG+HVHUTrkzexV3zK701l806DXaZjYnpwAAAAwAAAwNTAAAAp0GbLUnhClJlMCf/5EAC1fXRuvRzs3V7RqgCNr6NBBdgOQ2otLVCZcB+ipYWPnSud4xnScGX0T6Pmo/6deVPxQpfkTVdVCPPudwynOAX7vFCh3yeVKlCvZGVAYmySDKeWymyn6lifWvVF8fqEzauWnqOtLtzEionBMYC5TH88C9O9G7mAQmMJdZpugluG3sC3nppF/Oq3zqgWnzblsHgAAADAAADAHzAAAAAIkGfS0U0TGcC3hkRU40wuVYfJpfyWAAACAKieROwCnRDC+QAAACpAZ9sakd/AtY3lG3kP/lSe/3qK5xkPV7AbceeGtRmztNet8+q1K/5IIPZSa+IMvKRHbts2vUEb1+Nx2XnBNW+0iAY+/73uIphe8zhbcO97vOef6F+tGJCpLy7K6AMKitjOGEXvTz7lnR4HZ5ynVW3RseaQDnCfgn/pIzVNYcxAI4eOuvYut79PBRkm0FkkRbfaB1zg5pGNR3iEWtUPsqOgAAAAwDmPgBIwQAAAKRBm25JqEFomUwJ/+RDA+tR//RYlFAAV1aR2Os3nNod9hPlLmHUN6z8Ncjpb9kgid3HDf574Vdd72lo39fcGv2KX9VoSQbgcHOQlqqbSvpoDu8/ObIbGI+HEmJFNRtPVSg77e61KiONHjN+A50aLBTOowb4hgbkkj7BiVJoCKF7UTeIvc6yEx2ExmHoeg8XI2nBvPd5a5ML0GSrEAAAAwAAAwBmQQAAAKJBm5BJ4QpSZTBREs//5ELbdLBFxgCErLttAEl7QVYVMWQALemtonZwy0mDadY+eygJcg6lw0yBtwmODyAOoFqEoq0VaUrvwHTAsIDdPiKtHEYwRJ/zqdzimJqSNLNguPmXuOQkuKIv7sa4ldV1wvPv/pjpVxwwRPcvNEtjIpVQpewyZ3xMypy08W3raQmct8NVivnRcpV6FOpgAAADAAADAh8AAAAqAZ+vakd/PdT9PCOikhSSsxNDvssjobVVoydFuiAAAELRK9nYEBG0N/4UAAAAs0GbsUnhDomUwJ//5EHjzABrSij/EG8CAA5qP9EJ5eaOOTdKUtwHAJm25VxVnmgdj4PExikGGe2Qf6mAOiVePOikEsYTIcSkQBLdZi9xMI6tU+GMOejCrdANpAIxJRwoUl/dM1mEFtS8Kq2CZr+ZSux7u0xBZOUac5yXLkWsdNee7UKuwHdppd32USfYtlX21ouFlVkqjPf0BvtEmqJMyMhELs5gSOkO+xRIAAADAAADAK+AAAAAo0Gb0knhDyZTAl+HA2rvAthY5GP6LHHgADmvbet2Lr5tDMYLSoeuKkv6q9AYuwDYqrhZuIgVpt6PnO6jCVpjkGvyKX71Xx5TJXlaRSFReD7IPasWf9fAV93c4La/p4AkU080qqafZXutOX7Ad69cQK37flLmqhmcv0W+Sf5TRt+XWtVxaPT7QA5dg1Vsr8zGMeh/Ytia1tjSzOAAAAMAAAMAGfEAAACzQZvzSeEPJlMCX4cCPRd5dQzAyFZn6594UxZwAPqPybrOwiGwmcMtJduqY9GoMO93rTcunwmW3AnogXIncdM6oZDGxbew9QpgnhzpAauAN2g3LXOapO35gRQ8JU6uq6a759gdx/+Hj8yRWUWjY+ZcP0+FTzHI/NbZFw+ZY+42nP2VA0i9z4yBXJliRXd6+JUYzwz/sGLAAyRsSRwvX4dQGmZZa7HTNnNkIGAAAAMAAAMAE3AAAACyQZoUSeEPJlMCX4cBwF8H7EbIATROwwDWoBo/NN7W1HnrZcAjij4h9ySL2Xf7IDkG8KsmiIujsDC6X1H/iGJJks5opQcFwL49tbTXLxyEa+x2bVhUVaiqWzlY6By5KYXUwQtgQtLR7avwO1kcm42CmH1VXV9I7o5qjRsmVff1WuUtuhvEqoMdN0HCDChKwZEjv63Q9Fc5U9k0h/C55a4JpBRJA7cUvZ4UwvAAAAMAAAMBxwAAALpBmjZJ4Q8mUwURPL+HAAerjvQJ0CiSC1SpNUNlT+IkDRs5EXyrM/XP+yI+QIR6akuzlt/dD5KEghikMmLn4rkA2E/GPVicZkUz5fO9bqkGs380zuTAlxOJwV+L+BbuVXZuxH9oHWbhP+84uH/QrA0FbWjqcjYmg1VwzNhWRii+qWvVpvsB0RKPDLLWByocJwlMRrgwnjkWAJBUZAr1M7P94GrtZvDvXVyDn4h1CGPk9Om9BYAAAAMAB3UAAAC8AZ5Vakd/FMQul3+LZxGxTLOeJsqS5oFCt4e9Vpxiqzjgt8fmFMlP+iAjf8I/GlfxouhJLjT5nQz59HoxvTEJihfQZO+BMts2v9B4Sict7yE+H9hlEbWU6N0rszimHBj/uOVVcy/T6mZk6AYBkuXWQUrCEUa0pyeTlqctBgGzGcgtyrf9T1KD6zKjzCdBuOPTVMQSjfc0WevIvftJVqRGa05vxkghbklK2qNpqMAAAAMBkc28UhsgPjrIrygAAACqQZpYSeEPJlMFPL+HAAALt4tqXqZn2/U23TPbS5IADoZQnb82s/kjzp4FpqU0BtW+N7kROwMB9CKzPnG82KQ8z1NYd+JXo8TGQhrQBJfz5WoI3t9nMhpI8kk9wHIpl0vCo2kT1ai/OiEO9c2lcLCydeKT6+dsLJZ5qI/KBQ5OenAQG1xp1uHcYxsR4vJNoQiB4hi58ipH3G+skRlQ98wQttK0PzAAAAMABVUAAAC5AZ53akd/FMQul3+BGr7POMYsgYCuFL/VXg+qHL6/DnsTTK1rvRAWb1WpZq1EtOYFO38yy3IcBwu750QSaN3JkeVoQiSFhRlf9kqT+RvX196/l80+RfYOXVjiG+tpG2IG/xtbs1+8Jl7lPswon9HFfhVAt41Z6t9j/AYL5yx0K1gjdTyKq128pP/W8ovV4mt7RYurEzDSj7E4Xsy4vEXIVdzpp4ATfsSOHTxsgAAJKiFiN+ABmGeFeOEAAACuQZp6SeEPJlMFPf8AAAMAFO2xSPF5AYo3//OKeP3GiCZv3go9kbabjyxznjUMOTFZhaARxnJr3kAp8Uzbv9a6Y0ev+yAc+jLNrcVFN3owUZ0WMN+JvHxns6V7/wC2/8T8YAHag0uzfMYl8B37+uayJwrh1E225Pp5Ru5OFBqjwTeWzR7LrfHHpzgYYZSSdU6QK3Og3I5WMnyalwdxfIelEW2GBumCrWJJn4AAAEPAAAAAvQGemWpHfxTELpd/gRq+zzWw2IGL26Qv1Up7bObUIesuI//9Sct7gjSWQjQANK73lFYWHgBb1DmnH5Bszo0sLxnEcdm6VffZn2//vav2idySi8bfvDEwx/Qgsbue9kRFmFp1XWe91indCK4xPNyZTeeGd/dKUoh1Y4OVUH0/rZf1D+AGrKT7f5ckaRT741snYPdxF8KkcK2nNqv7fjc5jnAVzSf+KQZVUIH3R/9WW0IzAD9Z1y/yuAXUS3TjgQAAAK5Bmp5J4Q8mUwL/AAADAADyqOkNAKsuxBWuX65GWk8X/YP0uABpYSR2gqst2cRnqijjyPFLllijU8IXaZt5xGayoAPQOKai8eFYNvx5SWdCpLwYcavhL5/8cqHxw+hIDWOr+BiyR982LWl8zlVyGrc9mN/PshozxNQJGKwc0R7bhy7Mvj7IrN6uoDbZcnWOHf9h2rBgrb2nlu4aHotGWDKVwSONmFZFwqLc50AAhYAAAADVQZ68RRE8VxHh4IUvURu/48lHqOrbAhvsO/DIQGlyPz0y4UiT1WpOZo9kv+/Kjfx2oHvd+bgS7DlSJYgH/rY2RlKFY/nMvlqtiyBSw4iG5HzNrU7c9f0BDeT8HhGTm/DWwsmYkniQM04G4xvjbjRvAjKarOgw0NL+KDyynO0qVmd5337lm7fFIkMiwuH3Q1cEA70yK3iH8PLIftcFduRLuNJZGPABQB/dychA2KdXHuu56n9MgdAclSsVusbqvNkqnOLOckyEz96gGvvCscs0gtBbKc9BAAAAHQGe23RHfwAAJCm3IzmZg0DteDW1GEhlIBoAAB6xAAAAqgGe3WpHfwAAJYldM62wLfEgaTAUSj+QiB5xih///6k5b3BGkshGgAaV3vKKwsPAC3qHNOPyDZnRpYXjOI47N0q++zPt//e1ftE7klF43ANfRwwaNwSlc97IiLMLTqus97rFO6EVxiebkym88M7+6UpRDqxwcqoOiqcygjy1GVGrKieMrEPET1/R1R5KIvhMJUT3qeUSG2l1Kgzg5kzg+lDoWyOAaAJiAAHpAAAA1EGa30moQWiZTAv/AAADAAADAADS0kBPAyQZl+TSVgDRFhmvZ/i9ljEaNd/Z/je596Vt4enbovLgwESWS/ps+8GSe5fEdJsP6oqs//CyzsdscmD60VreGOd7y5Lesid2VtIIVKfTDVIjCTGfqsP+OrTsAMGYk6sbENRMMlGO+hD0SWIewo+WEbnZsmJaKy1dLfYtXe6K8GJLXQ6jtM5Qw+pxFV00sNBPnMAfDzuwar5J4KwCcEv7knX7lNnlT69cbeAyVpu8TmoxyJ0TtMr+x9cgAOOAAAAAJEGa40nhClJlMCv/AAADAAADAAZjzERVLmCofBQCaCm62ABFwQAAADZBnwFFNExXEeHghS9RG7/jyUeo6tvE9swFbABr3YljOvhu2oIagCCWirw/ZCB5XtMoGOTLfcoAAACtAZ8gdEd/AAAlKhuIaYgREMoHwoEESZIMiUKw/1UVBGgVLO+PzC9/HPXgSli6zxX51uUKqqI6GhH/H7NJtkBv+mLytpOkDhOfizkHIr7VyAz/g6IMODZindK8RCG/27r93+t0+b9wSQ8Af4dFGuktcelsFIW2ukOS3qq7kLs8Rp/nxBunWFtVVRwZ0QuAqMiodpTS7En1s+fsrRnSQ2Pxblqf75VJjRGVw+oAAf8AAAAdAZ8iakd/AAAliJS3PgQInMBk5Z64C6qJzfUAAk4AAAAhQZskSahBaJlMCv8AAAMAAAMABmPMRe7/KJjAQgMIAFTBAAAAr0GbRknhClJlMFESyf8AAAMAAAMAAYgkSUa5QBv3/6tJsMWLcrYzARE9a8fYWLs9stJZwTk3+xnO3bFtUUL1lrf1vBLGBydJuPcpexSW8Nrlxu04N26cAtXkbP/jbOAlR9whLYjpOp3tR75sFPjBZyroaaV8uh+niIF6p+H2iUQyPd98KBpX9dGTAiEJ7M2XJ/MJVY4O5Al99FGl2WcK2qFJnoAf0jjXDnqdP+aHoYEAAAC8AZ9lakd/FMQul3+BGr7PNM7G3QACK/7vqfqMdYSD9g+IYf6qKgjQKlnfH5he/jnrwJSxdZ4r863KGE6alyZAaB+zSbZAb/pi8raTpA4Tn4s5ByK+1cgM/4OiDDg2Yp3SvEQhv9u6/d/rdPm/cEkPAH+BzHEFZASDbBSFtrpDkt6qu5C7PEaf58Qa1AYTNgkC2J+y+rGo0O0ppdiT62fP2VozpIbH4ty1P98qkxojK4zF6IiTwgLVhFdNG6EAAACuQZtnSeEOiZTAk/8AAAMAAAMAAYhq7St+VwgDbflcGHh5SEK3L8fxLcBjBWpEAISwgO7oc45ZVxcn/CY4Qve3Ec66BOuoGcb3ctDqrpE6InhT3b60t0W9DwQfTnNhlQ+p3G4aqM/jwcUmotSZ0jkO2qnNIfEus2TH4ZcsUKrxKeFhl9b/yLHq3NqS7oj8XDJGgVepAXJUOu6zQyG8RszGKNM4gAukgqRMXQ2u5/4XAAAAqUGbiUnhDyZTBRU8RwAAAwAAAwAAAwBmYSVVspOhw+DUIAdqJ7BF/+zpo56XoC5+/ffKVmYFs+AZZgoYKHc10AxilcKMKfg1+ELXwVDCNXfsoxRczUFPYHQ6wdARbSuyhnb0DRWlvbNoAKb4HkqQB7N41TzX/WGytr6XNTY0VN97Jie8KzvWnv5rqkxX1zpGcNK6cr/LXilsCZKArfxABHnPnm8XRXwOmNAAAAC4AZ+oakd/FMQul3+BGr7PNM7G3QAABrPtYEYbq7eOdYVwpf6q8H1Q5fX4c9iaZWtd6ICzeq1LNWolpzS0/eeWW5DgOF3fOiCTRu5MjytCESQsOOUC9YGfKn8jevr71/f9J8i+wcurHEN9bSNsQN/ja3Zr94TL3KfZhRP6OK/CqBbxqz1b7H+AwXzlhJ+PDdLyeN/iohmcOQ8ovV4mt7RYurEzDSj7E4Xsy4vEXIVdzpp5U3s56W7yLgAAAJlBm6tJ4Q8mUwU8dwAAAwAAAwAAAwHYd14vSX8NAljdG/o18v//x7gRmz5W/w96tqLZTkvtpR81Br9iSmL//HyqmVz7teYAq8QbzC/oIrsm6AWXucz8fTDy3ob5kmPBvUXLU7CEThAVnH3+g79MI++2abpwKyv/aeET/VmXEwtsqws+u7996o+zNHKXLz+1RR7UHbQOxnm9/cEAAAC1AZ/Kakd/FMQul3+BGr7PNM7G3QAABrPtYEYbpq83H3R/kMlwt3RoZzPoH//gUV79Q1Q5kM/E3kWHqQhop/BMXPKjEpWra9P/9MKwX4yQV53g5zfXjwdj1YTTqaBjUI8d9XjlobJXdjjsHuJxYcI5ZegPiO6CbYmG08x/n4fmpn5Q1uhCJUymH8OTwlM7hJ5tt6aoNTwiEb7P4S8ptVxsTMpds9cTQedI0jQusvbOyo/NhaEDpgAABNptb292AAAAbG12aGQAAAAAAAAAAAAAAAAAAAPoAAAFuwABAAABAAAAAAAAAAAAAAAAAQAAAAAAAAAAAAAAAAAAAAEAAAAAAAAAAAAAAAAAAEAAAAAAAAAAAAAAAAAAAAAAAAAAAAAAAAAAAAAAAAACAAAEBHRyYWsAAABcdGtoZAAAAAMAAAAAAAAAAAAAAAEAAAAAAAAFuwAAAAAAAAAAAAAAAAAAAAAAAQAAAAAAAAAAAAAAAAAAAAEAAAAAAAAAAAAAAAAAAEAAAAACgAAAAoAAAAAAACRlZHRzAAAAHGVsc3QAAAAAAAAAAQAABbsAAAQAAAEAAAAAA3xtZGlhAAAAIG1kaGQAAAAAAAAAAAAAAAAAADwAAABYAFXEAAAAAAAtaGRscgAAAAAAAAAAdmlkZQAAAAAAAAAAAAAAAFZpZGVvSGFuZGxlcgAAAAMnbWluZgAAABR2bWhkAAAAAQAAAAAAAAAAAAAAJGRpbmYAAAAcZHJlZgAAAAAAAAABAAAADHVybCAAAAABAAAC53N0YmwAAACXc3RzZAAAAAAAAAABAAAAh2F2YzEAAAAAAAAAAQAAAAAAAAAAAAAAAAAAAAACgAKAAEgAAABIAAAAAAAAAAEAAAAAAAAAAAAAAAAAAAAAAAAAAAAAAAAAAAAAAAAAAAAY//8AAAAxYXZjQwFkAB//4QAYZ2QAH6zZQKAUaEAAAAMAQAAADwPGDGWAAQAGaOvjyyLAAAAAGHN0dHMAAAAAAAAAAQAAACwAAAIAAAAAFHN0c3MAAAAAAAAAAQAAAAEAAAEoY3R0cwAAAAAAAAAjAAAABgAABAAAAAABAAAKAAAAAAEAAAQAAAAAAQAAAAAAAAABAAACAAAAAAEAAAQAAAAAAQAACAAAAAACAAACAAAAAAEAAAQAAAAAAQAABgAAAAABAAACAAAAAAQAAAQAAAAAAQAABgAAAAABAAACAAAAAAEAAAYAAAAAAQAAAgAAAAABAAAGAAAAAAEAAAIAAAAAAQAACgAAAAABAAAEAAAAAAEAAAAAAAAAAQAAAgAAAAABAAAEAAAAAAEAAAoAAAAAAQAABAAAAAABAAAAAAAAAAEAAAIAAAAAAQAABAAAAAABAAAGAAAAAAEAAAIAAAAAAQAABAAAAAABAAAGAAAAAAEAAAIAAAAAAQAABgAAAAABAAACAAAAABxzdHNjAAAAAAAAAAEAAAABAAAALAAAAAEAAADEc3RzegAAAAAAAAAAAAAALAAAGNoAAAC1AAAAowAAAM0AAAC5AAAAqAAAALMAAADKAAAAIAAAACAAAACjAAAAqwAAACYAAACtAAAAqAAAAKYAAAAuAAAAtwAAAKcAAAC3AAAAtgAAAL4AAADAAAAArgAAAL0AAACyAAAAwQAAALIAAADZAAAAIQAAAK4AAADYAAAAKAAAADoAAACxAAAAIQAAACUAAACzAAAAwAAAALIAAACtAAAAvAAAAJ0AAAC5AAAAFHN0Y28AAAAAAAAAAQAAADAAAABidWR0YQAAAFptZXRhAAAAAAAAACFoZGxyAAAAAAAAAABtZGlyYXBwbAAAAAAAAAAAAAAAAC1pbHN0AAAAJal0b28AAAAdZGF0YQAAAAEAAAAATGF2ZjU3LjgzLjEwMA==\" type=\"video/mp4\" />\n",
              "             </video>"
            ]
          },
          "metadata": {}
        },
        {
          "output_type": "execute_result",
          "data": {
            "text/plain": [
              "43"
            ]
          },
          "metadata": {},
          "execution_count": 46
        }
      ]
    },
    {
      "cell_type": "markdown",
      "source": [
        "*Plot of number of steps per episode*"
      ],
      "metadata": {
        "id": "j9kklDT5J1aF"
      }
    },
    {
      "cell_type": "code",
      "source": [
        "episodes = [i * K for i in range(len(QL15_episode_steps_counts))]\n",
        "plt.plot(episodes, QL15_episode_steps_counts)\n",
        "plt.xlabel(\"Episode number\")\n",
        "plt.ylabel(\"Number of steps\")\n",
        "plt.show()"
      ],
      "metadata": {
        "colab": {
          "base_uri": "https://localhost:8080/",
          "height": 279
        },
        "id": "bTqdbF9V-yug",
        "outputId": "802e96db-d0b9-4e35-fc0e-dd470e7b7142"
      },
      "execution_count": null,
      "outputs": [
        {
          "output_type": "display_data",
          "data": {
            "text/plain": [
              "<Figure size 432x288 with 1 Axes>"
            ],
            "image/png": "[encoded data removed]"
          },
          "metadata": {
            "needs_background": "light"
          }
        }
      ]
    },
    {
      "cell_type": "markdown",
      "source": [
        "### Environment 30X30"
      ],
      "metadata": {
        "id": "p9O2MD8ROBaY"
      }
    },
    {
      "cell_type": "markdown",
      "source": [
        "We used the Q-learning algorithm"
      ],
      "metadata": {
        "id": "vmVn6FtoNS8p"
      }
    },
    {
      "cell_type": "code",
      "source": [
        "MAX_STEP = 4000\n",
        "NUM_OF_EPISODES = 2500\n",
        "K = 50\n",
        "\n",
        "env = MazeEnvSample30x30()\n",
        "env.reset()\n",
        "\n",
        "algorithm = Algorithm.QLearning\n",
        "evaluation_method = EvaluationMethod.ActionState\n",
        "\n",
        "exploration = True\n",
        "alpha = 0.3\n",
        "gamma = 1.0\n",
        "epsilon = 0.25\n",
        "stochastic_probability = 0.9\n",
        "is_epsilon_decrease = True\n",
        "\n",
        "\n",
        "\n",
        "policy_args = PolicyArgs(\n",
        "    alpha=alpha,\n",
        "    gamma=gamma,\n",
        "    epsilon=epsilon,\n",
        "    stochastic_probability=stochastic_probability,\n",
        "    is_epsilon_decrease=is_epsilon_decrease\n",
        ")\n",
        "\n",
        "QL30_episode_steps_counts, QL30_final_policy, QL30_mid_policy = run_policy(env=env,\n",
        "                                                          algorithm=algorithm,\n",
        "                                                          evaluation_method=evaluation_method,\n",
        "                                                          exploration=exploration,\n",
        "                                                          args=policy_args,\n",
        "                                                          overwrite_rewards={})"
      ],
      "metadata": {
        "id": "aCc5S-z6vOmL",
        "colab": {
          "base_uri": "https://localhost:8080/"
        },
        "outputId": "915de91f-7029-462a-fb91-b31813aef8fc"
      },
      "execution_count": null,
      "outputs": [
        {
          "output_type": "stream",
          "name": "stdout",
          "text": [
            "Generated an episode 0 -- took 4000 steps\n",
            "Generated an episode 50 -- took 4000 steps\n",
            "Generated an episode 100 -- took 4000 steps\n",
            "Generated an episode 150 -- took 4000 steps\n",
            "Generated an episode 200 -- took 4000 steps\n",
            "Generated an episode 250 -- took 4000 steps\n",
            "Generated an episode 300 -- took 1481 steps\n",
            "Generated an episode 350 -- took 4000 steps\n",
            "Generated an episode 400 -- took 4000 steps\n",
            "Generated an episode 450 -- took 4000 steps\n",
            "Generated an episode 500 -- took 4000 steps\n",
            "Generated an episode 550 -- took 4000 steps\n",
            "Generated an episode 600 -- took 4000 steps\n",
            "Generated an episode 650 -- took 1828 steps\n",
            "Generated an episode 700 -- took 227 steps\n",
            "Generated an episode 750 -- took 680 steps\n",
            "Generated an episode 800 -- took 1132 steps\n",
            "Generated an episode 850 -- took 382 steps\n",
            "Generated an episode 900 -- took 172 steps\n",
            "Generated an episode 950 -- took 1450 steps\n",
            "Generated an episode 1000 -- took 631 steps\n",
            "Generated an episode 1050 -- took 151 steps\n",
            "Generated an episode 1100 -- took 159 steps\n",
            "Generated an episode 1150 -- took 140 steps\n",
            "Generated an episode 1200 -- took 172 steps\n",
            "Generated an episode 1250 -- took 171 steps\n",
            "Generated an episode 1300 -- took 225 steps\n",
            "Generated an episode 1350 -- took 103 steps\n",
            "Generated an episode 1400 -- took 122 steps\n",
            "Generated an episode 1450 -- took 121 steps\n",
            "Generated an episode 1500 -- took 314 steps\n",
            "Generated an episode 1550 -- took 630 steps\n",
            "Generated an episode 1600 -- took 264 steps\n",
            "Generated an episode 1650 -- took 158 steps\n",
            "Generated an episode 1700 -- took 198 steps\n",
            "Generated an episode 1750 -- took 111 steps\n",
            "Generated an episode 1800 -- took 169 steps\n",
            "Generated an episode 1850 -- took 287 steps\n",
            "Generated an episode 1900 -- took 117 steps\n",
            "Generated an episode 1950 -- took 147 steps\n",
            "Generated an episode 2000 -- took 148 steps\n",
            "Generated an episode 2050 -- took 90 steps\n",
            "Generated an episode 2100 -- took 145 steps\n",
            "Generated an episode 2150 -- took 214 steps\n",
            "Generated an episode 2200 -- took 100 steps\n",
            "Generated an episode 2250 -- took 95 steps\n",
            "Generated an episode 2300 -- took 99 steps\n",
            "Generated an episode 2350 -- took 93 steps\n",
            "Generated an episode 2400 -- took 99 steps\n",
            "Generated an episode 2450 -- took 162 steps\n"
          ]
        }
      ]
    },
    {
      "cell_type": "markdown",
      "source": [
        "MIDDLE OF EVALUATION RUN"
      ],
      "metadata": {
        "id": "phcy95buLSgT"
      }
    },
    {
      "cell_type": "code",
      "source": [
        "env = MazeEnvSample30x30()\n",
        "run(env, QL30_mid_policy, evaluation_method, stochastic_probability, epsilon)"
      ],
      "metadata": {
        "colab": {
          "base_uri": "https://localhost:8080/",
          "height": 439
        },
        "id": "VZ82Qu-hLRm-",
        "outputId": "e76f8034-6160-4e52-d2ab-d6f6380c8aea"
      },
      "execution_count": null,
      "outputs": [
        {
          "output_type": "display_data",
          "data": {
            "text/plain": [
              "<IPython.core.display.HTML object>"
            ],
            "text/html": [
              "<video alt=\"test\" autoplay \n",
              "                loop controls style=\"height: 400px;\">\n",
              "                <source src=\"data:video/mp4;base64,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\" type=\"video/mp4\" />\n",
              "             </video>"
            ]
          },
          "metadata": {}
        },
        {
          "output_type": "execute_result",
          "data": {
            "text/plain": [
              "172"
            ]
          },
          "metadata": {},
          "execution_count": 13
        }
      ]
    },
    {
      "cell_type": "markdown",
      "source": [
        "END OF EVALUATION RUN"
      ],
      "metadata": {
        "id": "UMjXkZPKLUEV"
      }
    },
    {
      "cell_type": "code",
      "source": [
        "env = MazeEnvSample30x30()\n",
        "run(env, QL30_final_policy, evaluation_method, stochastic_probability, epsilon)"
      ],
      "metadata": {
        "colab": {
          "base_uri": "https://localhost:8080/",
          "height": 439
        },
        "id": "x66j24nHlPwt",
        "outputId": "cb92a344-7ee8-4f2f-9cea-fbf522356c9e"
      },
      "execution_count": null,
      "outputs": [
        {
          "output_type": "display_data",
          "data": {
            "text/plain": [
              "<IPython.core.display.HTML object>"
            ],
            "text/html": [
              "<video alt=\"test\" autoplay \n",
              "                loop controls style=\"height: 400px;\">\n",
              "                <source src=\"data:video/mp4;base64,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\" type=\"video/mp4\" />\n",
              "             </video>"
            ]
          },
          "metadata": {}
        },
        {
          "output_type": "execute_result",
          "data": {
            "text/plain": [
              "146"
            ]
          },
          "metadata": {},
          "execution_count": 41
        }
      ]
    },
    {
      "cell_type": "markdown",
      "source": [
        "Plot of number of steps per episode"
      ],
      "metadata": {
        "id": "by-PItQRLUlu"
      }
    },
    {
      "cell_type": "code",
      "source": [
        "episodes = [i * K for i in range(len(QL30_episode_steps_counts))]\n",
        "plt.plot(episodes, QL30_episode_steps_counts)\n",
        "plt.xlabel(\"Episode number\")\n",
        "plt.ylabel(\"Number of steps\")\n",
        "plt.show()"
      ],
      "metadata": {
        "colab": {
          "base_uri": "https://localhost:8080/",
          "height": 279
        },
        "id": "j5iSozlSLUvo",
        "outputId": "2f60e497-1a7f-4990-ee6c-91bbd3991956"
      },
      "execution_count": null,
      "outputs": [
        {
          "output_type": "display_data",
          "data": {
            "text/plain": [
              "<Figure size 432x288 with 1 Axes>"
            ],
            "image/png": "[encoded data removed]"
          },
          "metadata": {
            "needs_background": "light"
          }
        }
      ]
    }
  ],
  "metadata": {
    "colab": {
      "collapsed_sections": [],
      "name": "RL_Mid_2022.ipynb",
      "provenance": []
    },
    "kernelspec": {
      "display_name": "Python 3",
      "name": "python3"
    }
  },
  "nbformat": 4,
  "nbformat_minor": 0
}